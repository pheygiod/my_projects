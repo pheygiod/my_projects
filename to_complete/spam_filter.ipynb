{
 "cells": [
  {
   "cell_type": "markdown",
   "id": "46a8eb64-cffe-4b30-afd7-b76f676b7315",
   "metadata": {},
   "source": [
    "# Guided Project: Building a Spam Filter with Naive Bayes"
   ]
  },
  {
   "cell_type": "markdown",
   "id": "99eeaed3-0487-4752-b638-152879f6df25",
   "metadata": {},
   "source": [
    "# Exploring the Data "
   ]
  },
  {
   "cell_type": "code",
   "execution_count": 41,
   "id": "05ee593e-07ea-46af-8bf9-c8e8e4772771",
   "metadata": {},
   "outputs": [],
   "source": [
    "spam_dict = \"\"\"{'label': {0: 'ham', 1: 'ham', 2: 'spam', 3: 'ham', 4: 'ham', 5: 'spam', 6: 'ham', 7: 'ham', 8: 'spam', 9: 'spam', 10: 'ham', 11: 'spam', 12: 'spam', 13: 'ham', 14: 'ham', 15: 'spam', 16: 'ham', 17: 'ham', 18: 'ham', 19: 'spam', 20: 'ham', 21: 'ham', 22: 'ham', 23: 'ham', 24: 'ham', 25: 'ham', 26: 'ham', 27: 'ham', 28: 'ham', 29: 'ham', 30: 'ham', 31:}\"\"\""
   ]
  },
  {
   "cell_type": "code",
   "execution_count": 42,
   "id": "f1dfb3e3-f833-4ae7-9d85-f743920f2386",
   "metadata": {},
   "outputs": [
    {
     "ename": "SyntaxError",
     "evalue": "unexpected EOF while parsing (<string>, line 1)",
     "output_type": "error",
     "traceback": [
      "Traceback \u001b[0;36m(most recent call last)\u001b[0m:\n",
      "  File \u001b[1;32m/opt/homebrew/anaconda3/lib/python3.9/site-packages/IPython/core/interactiveshell.py:3397\u001b[0m in \u001b[1;35mrun_code\u001b[0m\n    exec(code_obj, self.user_global_ns, self.user_ns)\n",
      "\u001b[0;36m  Input \u001b[0;32mIn [42]\u001b[0;36m in \u001b[0;35m<cell line: 2>\u001b[0;36m\u001b[0m\n\u001b[0;31m    spam_dict = eval(spam_dict)\u001b[0m\n",
      "\u001b[0;36m  File \u001b[0;32m<string>:1\u001b[0;36m\u001b[0m\n\u001b[0;31m    {'label': {0: 'ham', 1: 'ham', 2: 'spam', 3: 'ham', 4: 'ham', 5: 'spam', 6: 'ham', 7: 'ham', 8: 'spam', 9: 'spam', 10: 'ham', 11: 'spam', 12: 'spam', 13: 'ham', 14: 'ham', 15: 'spam', 16: 'ham', 17: 'ham', 18: 'ham', 19: 'spam', 20: 'ham', 21: 'ham', 22: 'ham', 23: 'ham', 24: 'ham', 25: 'ham', 26: 'ham', 27: 'ham', 28: 'ham', 29: 'ham', 30: 'ham', 31:}\u001b[0m\n\u001b[0m                                                                                                                                                                                                                                                                                                                                                                     ^\u001b[0m\n\u001b[0;31mSyntaxError\u001b[0m\u001b[0;31m:\u001b[0m unexpected EOF while parsing\n"
     ]
    }
   ],
   "source": [
    "spam_dict = spam_dict.replace(\"nan\", \"'nan'\")\n",
    "spam_dict = eval(spam_dict)"
   ]
  },
  {
   "cell_type": "code",
   "execution_count": null,
   "id": "9c76f9ca-00a6-41b2-8b7f-69aa44364eca",
   "metadata": {},
   "outputs": [],
   "source": []
  }
 ],
 "metadata": {
  "kernelspec": {
   "display_name": "Python 3 (ipykernel)",
   "language": "python",
   "name": "python3"
  },
  "language_info": {
   "codemirror_mode": {
    "name": "ipython",
    "version": 3
   },
   "file_extension": ".py",
   "mimetype": "text/x-python",
   "name": "python",
   "nbconvert_exporter": "python",
   "pygments_lexer": "ipython3",
   "version": "3.9.12"
  }
 },
 "nbformat": 4,
 "nbformat_minor": 5
}
