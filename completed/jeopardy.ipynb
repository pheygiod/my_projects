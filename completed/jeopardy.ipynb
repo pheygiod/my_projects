{
 "cells": [
  {
   "cell_type": "markdown",
   "id": "469bd628-5cbb-4a0f-927d-283a1cccd065",
   "metadata": {},
   "source": [
    "# Finding Earning Opportunities - Analysing Patterns to Win Jeopardy "
   ]
  },
  {
   "cell_type": "markdown",
   "id": "8e0beef9-bd7f-4c41-81e6-b698da6878ff",
   "metadata": {},
   "source": [
    "# Introduction "
   ]
  },
  {
   "cell_type": "markdown",
   "id": "b40aa12e-d4ca-4d5e-8bd0-5f22ffe9cfb3",
   "metadata": {},
   "source": [
    "The purpose of this project is to look for a way to win Jeopardy. Jeopardy is a popular TV show based in the US where players answer questions to win money. We'll be working with a Jeopardy dataset to discover useful patterns in the questions that can help us win. More specifically, we'll try to answer the following questions:\n",
    "\n",
    "- \"How often can an answer be used for a question?\"\n",
    "- \"How often are questions repeated?\"\n",
    "- \"Are high-value questions more useful than low-value questions?\"\n",
    "\n",
    "Overall, we did not find any statistically significant relationship among the variables we have investigated. Here are the answers that we found to the abovementioned questions:\n",
    "\n",
    "- Only 5.7% of questions have their answers in the questions asked, which means that we cannot win trying to discover the answers of questions using the question itself.\n",
    "- Questions are repeated 87% of the time. Although we're only looking at a small set of questions, this finding means that it might be worth investigating repeated questions further.\n",
    "- No statistically significant difference was found between high value and low value rows. Moreover, the frequencies are all lower than 5, so the chi-squared test is not as valid. \n",
    "\n",
    "Eventually, we came to the conclusion that further analysis is needed to find more relevant correlations. "
   ]
  },
  {
   "cell_type": "markdown",
   "id": "5db21a9d-dcaa-4943-a8e9-74265d9ce0a9",
   "metadata": {},
   "source": [
    "# Reading in the Data"
   ]
  },
  {
   "cell_type": "code",
   "execution_count": 20,
   "id": "31ec6230-7565-401c-a807-afaf3e2a1a47",
   "metadata": {},
   "outputs": [],
   "source": [
    "import numpy as np\n",
    "import pandas as pd\n",
    "import random\n",
    "import re\n",
    "from scipy.stats import chisquare "
   ]
  },
  {
   "cell_type": "code",
   "execution_count": 2,
   "id": "bdb181eb-6ea5-4715-bef8-dc96e1773400",
   "metadata": {},
   "outputs": [],
   "source": [
    "jeopardy = pd.read_csv('~/Desktop/my_projects/data/JEOPARDY_CSV.csv')"
   ]
  },
  {
   "cell_type": "code",
   "execution_count": 3,
   "id": "44b4049a-2fbd-40f5-a56c-1cfe033a684f",
   "metadata": {},
   "outputs": [
    {
     "data": {
      "text/html": [
       "<div>\n",
       "<style scoped>\n",
       "    .dataframe tbody tr th:only-of-type {\n",
       "        vertical-align: middle;\n",
       "    }\n",
       "\n",
       "    .dataframe tbody tr th {\n",
       "        vertical-align: top;\n",
       "    }\n",
       "\n",
       "    .dataframe thead th {\n",
       "        text-align: right;\n",
       "    }\n",
       "</style>\n",
       "<table border=\"1\" class=\"dataframe\">\n",
       "  <thead>\n",
       "    <tr style=\"text-align: right;\">\n",
       "      <th></th>\n",
       "      <th>Show Number</th>\n",
       "      <th>Air Date</th>\n",
       "      <th>Round</th>\n",
       "      <th>Category</th>\n",
       "      <th>Value</th>\n",
       "      <th>Question</th>\n",
       "      <th>Answer</th>\n",
       "    </tr>\n",
       "  </thead>\n",
       "  <tbody>\n",
       "    <tr>\n",
       "      <th>0</th>\n",
       "      <td>4680</td>\n",
       "      <td>2004-12-31</td>\n",
       "      <td>Jeopardy!</td>\n",
       "      <td>HISTORY</td>\n",
       "      <td>$200</td>\n",
       "      <td>For the last 8 years of his life, Galileo was ...</td>\n",
       "      <td>Copernicus</td>\n",
       "    </tr>\n",
       "    <tr>\n",
       "      <th>1</th>\n",
       "      <td>4680</td>\n",
       "      <td>2004-12-31</td>\n",
       "      <td>Jeopardy!</td>\n",
       "      <td>ESPN's TOP 10 ALL-TIME ATHLETES</td>\n",
       "      <td>$200</td>\n",
       "      <td>No. 2: 1912 Olympian; football star at Carlisl...</td>\n",
       "      <td>Jim Thorpe</td>\n",
       "    </tr>\n",
       "    <tr>\n",
       "      <th>2</th>\n",
       "      <td>4680</td>\n",
       "      <td>2004-12-31</td>\n",
       "      <td>Jeopardy!</td>\n",
       "      <td>EVERYBODY TALKS ABOUT IT...</td>\n",
       "      <td>$200</td>\n",
       "      <td>The city of Yuma in this state has a record av...</td>\n",
       "      <td>Arizona</td>\n",
       "    </tr>\n",
       "    <tr>\n",
       "      <th>3</th>\n",
       "      <td>4680</td>\n",
       "      <td>2004-12-31</td>\n",
       "      <td>Jeopardy!</td>\n",
       "      <td>THE COMPANY LINE</td>\n",
       "      <td>$200</td>\n",
       "      <td>In 1963, live on \"The Art Linkletter Show\", th...</td>\n",
       "      <td>McDonald's</td>\n",
       "    </tr>\n",
       "    <tr>\n",
       "      <th>4</th>\n",
       "      <td>4680</td>\n",
       "      <td>2004-12-31</td>\n",
       "      <td>Jeopardy!</td>\n",
       "      <td>EPITAPHS &amp; TRIBUTES</td>\n",
       "      <td>$200</td>\n",
       "      <td>Signer of the Dec. of Indep., framer of the Co...</td>\n",
       "      <td>John Adams</td>\n",
       "    </tr>\n",
       "  </tbody>\n",
       "</table>\n",
       "</div>"
      ],
      "text/plain": [
       "   Show Number    Air Date      Round                         Category  Value  \\\n",
       "0         4680  2004-12-31  Jeopardy!                          HISTORY   $200   \n",
       "1         4680  2004-12-31  Jeopardy!  ESPN's TOP 10 ALL-TIME ATHLETES   $200   \n",
       "2         4680  2004-12-31  Jeopardy!      EVERYBODY TALKS ABOUT IT...   $200   \n",
       "3         4680  2004-12-31  Jeopardy!                 THE COMPANY LINE   $200   \n",
       "4         4680  2004-12-31  Jeopardy!              EPITAPHS & TRIBUTES   $200   \n",
       "\n",
       "                                            Question      Answer  \n",
       "0  For the last 8 years of his life, Galileo was ...  Copernicus  \n",
       "1  No. 2: 1912 Olympian; football star at Carlisl...  Jim Thorpe  \n",
       "2  The city of Yuma in this state has a record av...     Arizona  \n",
       "3  In 1963, live on \"The Art Linkletter Show\", th...  McDonald's  \n",
       "4  Signer of the Dec. of Indep., framer of the Co...  John Adams  "
      ]
     },
     "execution_count": 3,
     "metadata": {},
     "output_type": "execute_result"
    }
   ],
   "source": [
    "jeopardy.head()"
   ]
  },
  {
   "cell_type": "code",
   "execution_count": 4,
   "id": "a010982d-f08f-4a84-bf54-3fccdee7a077",
   "metadata": {},
   "outputs": [
    {
     "data": {
      "text/plain": [
       "Index(['Show Number', ' Air Date', ' Round', ' Category', ' Value',\n",
       "       ' Question', ' Answer'],\n",
       "      dtype='object')"
      ]
     },
     "execution_count": 4,
     "metadata": {},
     "output_type": "execute_result"
    }
   ],
   "source": [
    "jeopardy.columns"
   ]
  },
  {
   "cell_type": "code",
   "execution_count": 5,
   "id": "6e33e39c-c915-4395-a93a-26000326b571",
   "metadata": {},
   "outputs": [],
   "source": [
    "# Removing unnecessary white spaces\n",
    "jeopardy.columns = jeopardy.columns.str.strip()"
   ]
  },
  {
   "cell_type": "code",
   "execution_count": 6,
   "id": "fd96cb0a-2a65-4657-9c88-d855b879230b",
   "metadata": {},
   "outputs": [
    {
     "data": {
      "text/plain": [
       "Index(['Show Number', 'Air Date', 'Round', 'Category', 'Value', 'Question',\n",
       "       'Answer'],\n",
       "      dtype='object')"
      ]
     },
     "execution_count": 6,
     "metadata": {},
     "output_type": "execute_result"
    }
   ],
   "source": [
    "jeopardy.columns"
   ]
  },
  {
   "cell_type": "code",
   "execution_count": 7,
   "id": "97a93ebc-a616-411e-8f06-0aa50125b36d",
   "metadata": {},
   "outputs": [
    {
     "data": {
      "text/plain": [
       "Show Number     int64\n",
       "Air Date       object\n",
       "Round          object\n",
       "Category       object\n",
       "Value          object\n",
       "Question       object\n",
       "Answer         object\n",
       "dtype: object"
      ]
     },
     "execution_count": 7,
     "metadata": {},
     "output_type": "execute_result"
    }
   ],
   "source": [
    "jeopardy.dtypes"
   ]
  },
  {
   "cell_type": "markdown",
   "id": "78154c6d-5f90-4580-8c9f-bc561c201338",
   "metadata": {
    "tags": []
   },
   "source": [
    "# Normalizing Text"
   ]
  },
  {
   "cell_type": "code",
   "execution_count": 8,
   "id": "49a4cd3e-db2a-4f62-bb90-cf963e969b0e",
   "metadata": {},
   "outputs": [
    {
     "data": {
      "text/html": [
       "<div>\n",
       "<style scoped>\n",
       "    .dataframe tbody tr th:only-of-type {\n",
       "        vertical-align: middle;\n",
       "    }\n",
       "\n",
       "    .dataframe tbody tr th {\n",
       "        vertical-align: top;\n",
       "    }\n",
       "\n",
       "    .dataframe thead th {\n",
       "        text-align: right;\n",
       "    }\n",
       "</style>\n",
       "<table border=\"1\" class=\"dataframe\">\n",
       "  <thead>\n",
       "    <tr style=\"text-align: right;\">\n",
       "      <th></th>\n",
       "      <th>Show Number</th>\n",
       "      <th>Air Date</th>\n",
       "      <th>Round</th>\n",
       "      <th>Category</th>\n",
       "      <th>Value</th>\n",
       "      <th>Question</th>\n",
       "      <th>Answer</th>\n",
       "      <th>clean_question</th>\n",
       "      <th>clean_answer</th>\n",
       "    </tr>\n",
       "  </thead>\n",
       "  <tbody>\n",
       "    <tr>\n",
       "      <th>0</th>\n",
       "      <td>4680</td>\n",
       "      <td>2004-12-31</td>\n",
       "      <td>Jeopardy!</td>\n",
       "      <td>HISTORY</td>\n",
       "      <td>$200</td>\n",
       "      <td>For the last 8 years of his life, Galileo was ...</td>\n",
       "      <td>Copernicus</td>\n",
       "      <td>for the last 8 years of his life galileo was u...</td>\n",
       "      <td>copernicus</td>\n",
       "    </tr>\n",
       "    <tr>\n",
       "      <th>1</th>\n",
       "      <td>4680</td>\n",
       "      <td>2004-12-31</td>\n",
       "      <td>Jeopardy!</td>\n",
       "      <td>ESPN's TOP 10 ALL-TIME ATHLETES</td>\n",
       "      <td>$200</td>\n",
       "      <td>No. 2: 1912 Olympian; football star at Carlisl...</td>\n",
       "      <td>Jim Thorpe</td>\n",
       "      <td>no 2 1912 olympian football star at carlisle i...</td>\n",
       "      <td>jim thorpe</td>\n",
       "    </tr>\n",
       "    <tr>\n",
       "      <th>2</th>\n",
       "      <td>4680</td>\n",
       "      <td>2004-12-31</td>\n",
       "      <td>Jeopardy!</td>\n",
       "      <td>EVERYBODY TALKS ABOUT IT...</td>\n",
       "      <td>$200</td>\n",
       "      <td>The city of Yuma in this state has a record av...</td>\n",
       "      <td>Arizona</td>\n",
       "      <td>the city of yuma in this state has a record av...</td>\n",
       "      <td>arizona</td>\n",
       "    </tr>\n",
       "    <tr>\n",
       "      <th>3</th>\n",
       "      <td>4680</td>\n",
       "      <td>2004-12-31</td>\n",
       "      <td>Jeopardy!</td>\n",
       "      <td>THE COMPANY LINE</td>\n",
       "      <td>$200</td>\n",
       "      <td>In 1963, live on \"The Art Linkletter Show\", th...</td>\n",
       "      <td>McDonald's</td>\n",
       "      <td>in 1963 live on the art linkletter show this c...</td>\n",
       "      <td>mcdonalds</td>\n",
       "    </tr>\n",
       "    <tr>\n",
       "      <th>4</th>\n",
       "      <td>4680</td>\n",
       "      <td>2004-12-31</td>\n",
       "      <td>Jeopardy!</td>\n",
       "      <td>EPITAPHS &amp; TRIBUTES</td>\n",
       "      <td>$200</td>\n",
       "      <td>Signer of the Dec. of Indep., framer of the Co...</td>\n",
       "      <td>John Adams</td>\n",
       "      <td>signer of the dec of indep framer of the const...</td>\n",
       "      <td>john adams</td>\n",
       "    </tr>\n",
       "  </tbody>\n",
       "</table>\n",
       "</div>"
      ],
      "text/plain": [
       "   Show Number    Air Date      Round                         Category Value  \\\n",
       "0         4680  2004-12-31  Jeopardy!                          HISTORY  $200   \n",
       "1         4680  2004-12-31  Jeopardy!  ESPN's TOP 10 ALL-TIME ATHLETES  $200   \n",
       "2         4680  2004-12-31  Jeopardy!      EVERYBODY TALKS ABOUT IT...  $200   \n",
       "3         4680  2004-12-31  Jeopardy!                 THE COMPANY LINE  $200   \n",
       "4         4680  2004-12-31  Jeopardy!              EPITAPHS & TRIBUTES  $200   \n",
       "\n",
       "                                            Question      Answer  \\\n",
       "0  For the last 8 years of his life, Galileo was ...  Copernicus   \n",
       "1  No. 2: 1912 Olympian; football star at Carlisl...  Jim Thorpe   \n",
       "2  The city of Yuma in this state has a record av...     Arizona   \n",
       "3  In 1963, live on \"The Art Linkletter Show\", th...  McDonald's   \n",
       "4  Signer of the Dec. of Indep., framer of the Co...  John Adams   \n",
       "\n",
       "                                      clean_question clean_answer  \n",
       "0  for the last 8 years of his life galileo was u...   copernicus  \n",
       "1  no 2 1912 olympian football star at carlisle i...   jim thorpe  \n",
       "2  the city of yuma in this state has a record av...      arizona  \n",
       "3  in 1963 live on the art linkletter show this c...    mcdonalds  \n",
       "4  signer of the dec of indep framer of the const...   john adams  "
      ]
     },
     "execution_count": 8,
     "metadata": {},
     "output_type": "execute_result"
    }
   ],
   "source": [
    "# Defining a function that normalizes text\n",
    "def normalize_text(text):\n",
    "    text = str(text).lower() # converting the string to lowercase\n",
    "    normalized_text = re.sub(\"[^\\w\\s]\", \"\", text) # removing all punctuation with a regex that excludes word and space characters \n",
    "    return normalized_text\n",
    "\n",
    "# Applying the function to the Question and Answer columns\n",
    "jeopardy['clean_question'] = jeopardy['Question'].apply(normalize_text)\n",
    "jeopardy['clean_answer'] = jeopardy['Answer'].apply(normalize_text)\n",
    "\n",
    "jeopardy.head()"
   ]
  },
  {
   "cell_type": "markdown",
   "id": "04144456-72ce-4f7f-893d-30b9ec91e6d1",
   "metadata": {},
   "source": [
    "# Normalizing Columns"
   ]
  },
  {
   "cell_type": "code",
   "execution_count": 9,
   "id": "ec15386b-4071-4166-a66e-a6a880ed70c3",
   "metadata": {},
   "outputs": [
    {
     "data": {
      "text/html": [
       "<div>\n",
       "<style scoped>\n",
       "    .dataframe tbody tr th:only-of-type {\n",
       "        vertical-align: middle;\n",
       "    }\n",
       "\n",
       "    .dataframe tbody tr th {\n",
       "        vertical-align: top;\n",
       "    }\n",
       "\n",
       "    .dataframe thead th {\n",
       "        text-align: right;\n",
       "    }\n",
       "</style>\n",
       "<table border=\"1\" class=\"dataframe\">\n",
       "  <thead>\n",
       "    <tr style=\"text-align: right;\">\n",
       "      <th></th>\n",
       "      <th>Show Number</th>\n",
       "      <th>Air Date</th>\n",
       "      <th>Round</th>\n",
       "      <th>Category</th>\n",
       "      <th>Value</th>\n",
       "      <th>Question</th>\n",
       "      <th>Answer</th>\n",
       "      <th>clean_question</th>\n",
       "      <th>clean_answer</th>\n",
       "      <th>clean_value</th>\n",
       "    </tr>\n",
       "  </thead>\n",
       "  <tbody>\n",
       "    <tr>\n",
       "      <th>0</th>\n",
       "      <td>4680</td>\n",
       "      <td>2004-12-31</td>\n",
       "      <td>Jeopardy!</td>\n",
       "      <td>HISTORY</td>\n",
       "      <td>$200</td>\n",
       "      <td>For the last 8 years of his life, Galileo was ...</td>\n",
       "      <td>Copernicus</td>\n",
       "      <td>for the last 8 years of his life galileo was u...</td>\n",
       "      <td>copernicus</td>\n",
       "      <td>200</td>\n",
       "    </tr>\n",
       "    <tr>\n",
       "      <th>1</th>\n",
       "      <td>4680</td>\n",
       "      <td>2004-12-31</td>\n",
       "      <td>Jeopardy!</td>\n",
       "      <td>ESPN's TOP 10 ALL-TIME ATHLETES</td>\n",
       "      <td>$200</td>\n",
       "      <td>No. 2: 1912 Olympian; football star at Carlisl...</td>\n",
       "      <td>Jim Thorpe</td>\n",
       "      <td>no 2 1912 olympian football star at carlisle i...</td>\n",
       "      <td>jim thorpe</td>\n",
       "      <td>200</td>\n",
       "    </tr>\n",
       "    <tr>\n",
       "      <th>2</th>\n",
       "      <td>4680</td>\n",
       "      <td>2004-12-31</td>\n",
       "      <td>Jeopardy!</td>\n",
       "      <td>EVERYBODY TALKS ABOUT IT...</td>\n",
       "      <td>$200</td>\n",
       "      <td>The city of Yuma in this state has a record av...</td>\n",
       "      <td>Arizona</td>\n",
       "      <td>the city of yuma in this state has a record av...</td>\n",
       "      <td>arizona</td>\n",
       "      <td>200</td>\n",
       "    </tr>\n",
       "    <tr>\n",
       "      <th>3</th>\n",
       "      <td>4680</td>\n",
       "      <td>2004-12-31</td>\n",
       "      <td>Jeopardy!</td>\n",
       "      <td>THE COMPANY LINE</td>\n",
       "      <td>$200</td>\n",
       "      <td>In 1963, live on \"The Art Linkletter Show\", th...</td>\n",
       "      <td>McDonald's</td>\n",
       "      <td>in 1963 live on the art linkletter show this c...</td>\n",
       "      <td>mcdonalds</td>\n",
       "      <td>200</td>\n",
       "    </tr>\n",
       "    <tr>\n",
       "      <th>4</th>\n",
       "      <td>4680</td>\n",
       "      <td>2004-12-31</td>\n",
       "      <td>Jeopardy!</td>\n",
       "      <td>EPITAPHS &amp; TRIBUTES</td>\n",
       "      <td>$200</td>\n",
       "      <td>Signer of the Dec. of Indep., framer of the Co...</td>\n",
       "      <td>John Adams</td>\n",
       "      <td>signer of the dec of indep framer of the const...</td>\n",
       "      <td>john adams</td>\n",
       "      <td>200</td>\n",
       "    </tr>\n",
       "  </tbody>\n",
       "</table>\n",
       "</div>"
      ],
      "text/plain": [
       "   Show Number   Air Date      Round                         Category Value  \\\n",
       "0         4680 2004-12-31  Jeopardy!                          HISTORY  $200   \n",
       "1         4680 2004-12-31  Jeopardy!  ESPN's TOP 10 ALL-TIME ATHLETES  $200   \n",
       "2         4680 2004-12-31  Jeopardy!      EVERYBODY TALKS ABOUT IT...  $200   \n",
       "3         4680 2004-12-31  Jeopardy!                 THE COMPANY LINE  $200   \n",
       "4         4680 2004-12-31  Jeopardy!              EPITAPHS & TRIBUTES  $200   \n",
       "\n",
       "                                            Question      Answer  \\\n",
       "0  For the last 8 years of his life, Galileo was ...  Copernicus   \n",
       "1  No. 2: 1912 Olympian; football star at Carlisl...  Jim Thorpe   \n",
       "2  The city of Yuma in this state has a record av...     Arizona   \n",
       "3  In 1963, live on \"The Art Linkletter Show\", th...  McDonald's   \n",
       "4  Signer of the Dec. of Indep., framer of the Co...  John Adams   \n",
       "\n",
       "                                      clean_question clean_answer  clean_value  \n",
       "0  for the last 8 years of his life galileo was u...   copernicus          200  \n",
       "1  no 2 1912 olympian football star at carlisle i...   jim thorpe          200  \n",
       "2  the city of yuma in this state has a record av...      arizona          200  \n",
       "3  in 1963 live on the art linkletter show this c...    mcdonalds          200  \n",
       "4  signer of the dec of indep framer of the const...   john adams          200  "
      ]
     },
     "execution_count": 9,
     "metadata": {},
     "output_type": "execute_result"
    }
   ],
   "source": [
    "# Writing a function that normalizes columns\n",
    "def normalize_column(string):\n",
    "    normalized_string = re.sub(\"[^\\w\\s]\", \"\", string) # removing any punctuation in the string \n",
    "    try: \n",
    "        int_string = int(normalized_string) # coverting the string into an integer \n",
    "    except Exception:\n",
    "        int_string = 0 # assigning 0 if the conversion has an error \n",
    "    return int_string\n",
    "\n",
    "# Applying the function to the Value column\n",
    "jeopardy['clean_value'] = jeopardy['Value'].apply(normalize_column)\n",
    "\n",
    "# converting the Air Date column from a string to a datetime column \n",
    "jeopardy['Air Date'] = pd.to_datetime(jeopardy['Air Date'])\n",
    "\n",
    "jeopardy.head()"
   ]
  },
  {
   "cell_type": "markdown",
   "id": "9a447002-a1d0-4ba0-be91-11472f00d6d5",
   "metadata": {},
   "source": [
    "# Answers in Questions"
   ]
  },
  {
   "cell_type": "markdown",
   "id": "755bf831-ef1d-49c3-864b-46e447c2ea04",
   "metadata": {},
   "source": [
    "In order to understand what we should study to win Jeopardy, it'd be useful to find out how often the answer can be used for a question. This will help us answer our first question: \"How often can an answer be used for a question?\". We can discover this by looking at how many times words in the answer also occur in the question. "
   ]
  },
  {
   "cell_type": "code",
   "execution_count": 10,
   "id": "47a5ec99-beb7-41d1-9a81-c28578640aec",
   "metadata": {},
   "outputs": [
    {
     "data": {
      "text/plain": [
       "0.05792070323661354"
      ]
     },
     "execution_count": 10,
     "metadata": {},
     "output_type": "execute_result"
    }
   ],
   "source": [
    "# Writing a function that counts the number of word matches between questions and answers\n",
    "def match_count(row):\n",
    "    split_answer = row['clean_answer'].split() # turning each answer into a list of words \n",
    "    split_question = row['clean_question'].split() # turning each question into a list of words\n",
    "    match_count = 0\n",
    "    if \"the\" in split_answer:\n",
    "        split_answer.remove(\"the\") # removing 'the' since it doesn't have any meaningful use in finding the answer\n",
    "    if len(split_answer) == 0:\n",
    "        return 0\n",
    "    for item in split_answer:\n",
    "        if item in split_question:\n",
    "            match_count += 1\n",
    "    return match_count / len(split_answer) # finding the number of times we can use a word relative to the overall list of words in split_answer\n",
    "\n",
    "# Applying the function to the clean_question and clean_answer columns \n",
    "jeopardy['answer_in_question'] = jeopardy.apply(match_count, axis=1)\n",
    "\n",
    "# Finding the mean of the answer_in_question column\n",
    "jeopardy['answer_in_question'].mean()"
   ]
  },
  {
   "cell_type": "markdown",
   "id": "937845bd-f29e-4aec-9f27-b7527f156452",
   "metadata": {},
   "source": [
    "On average, only 5.7% of questions have their answers in the questions asked. This is not a high enough result and means that we cannot win trying to discover the answers of questions using the question itself. Therefore, it might be more efficient for us to study for jeopardy."
   ]
  },
  {
   "cell_type": "markdown",
   "id": "041d73cf-3435-4b92-af92-38ce4ebc7280",
   "metadata": {},
   "source": [
    "# Recycled Questions"
   ]
  },
  {
   "cell_type": "markdown",
   "id": "55f0a4f9-9125-4979-b6ab-44919c2eb459",
   "metadata": {},
   "source": [
    "Let's try to answer the second question: \"How often are questions repeated?\". This might be a helpful information for us to win the game. We might not be able to completely answer this question, since we only have about 10% of the full Jeopardy question dataset. However, we can at least investigate it."
   ]
  },
  {
   "cell_type": "code",
   "execution_count": 11,
   "id": "70cd1195-3925-425d-94bd-b65b06094954",
   "metadata": {},
   "outputs": [
    {
     "data": {
      "text/plain": [
       "0.8721766377741468"
      ]
     },
     "execution_count": 11,
     "metadata": {},
     "output_type": "execute_result"
    }
   ],
   "source": [
    "# Checking if the terms in questions have been used previously or not\n",
    "question_overlap = [] # keeping an list initially empty for the overlap of questions \n",
    "terms_used = set() # maintaining an initially empty set for the terms used \n",
    "jeopardy = jeopardy.sort_values(by=['Air Date']) # sorting the dataset in order of ascending air date\n",
    "\n",
    "for i, row in jeopardy.iterrows(): # using iterrows() to loop through each row of jeopardy\n",
    "    split_question = row['clean_question'].split(\" \") # splitting each word around whitespaces \n",
    "    split_question = [q for q in split_question if len(q) > 5] # filtering out words like 'the' and 'than' with lambda function\n",
    "    match_count = 0 \n",
    "    for word in split_question: # looping through each word in split_question\n",
    "        if word in terms_used:\n",
    "            match_count += 1 # incrementing match_count if the term occurs in term_used \n",
    "    for word in split_question:\n",
    "        terms_used.add(word) # using the add() method to add each word of split_question to term_used\n",
    "    if len(split_question) > 0:\n",
    "        match_count /= len(split_question)\n",
    "    question_overlap.append(match_count) # appending the final count of matches to the question_overlap list \n",
    "        \n",
    "jeopardy['question_overlap'] = question_overlap\n",
    "jeopardy['question_overlap'].mean()"
   ]
  },
  {
   "cell_type": "markdown",
   "id": "ce891f81-f8c8-4dac-b496-4393d41118bd",
   "metadata": {},
   "source": [
    "On average, there is an 87% overlap between words used in new questions and words used in old questions. Here, we're only looking at a small set of questions, and we're specifically looking at single terms rathern than whole phrases. This means that our findings are relatively insignificant. However, it also means that it might be worth investigating further into repeated questions."
   ]
  },
  {
   "cell_type": "markdown",
   "id": "4d7cb44d-233d-4b0f-9759-63f12aaa1b26",
   "metadata": {},
   "source": [
    "# Low Value vs High Value Questions"
   ]
  },
  {
   "cell_type": "markdown",
   "id": "e84a4ed1-32de-40b2-95ea-cc4430cbf934",
   "metadata": {},
   "source": [
    "The third and last question is: \"Are high-value questions more useful than low-value questions?\". By only studying high-value questions, we might be able to optimise our effort and earn more money when playing Jeopardy. We can find the words with the biggest differences in usage between high and low value questions by selecting the words with the highest associated chi-squared values. However, doing this for all of the words would be extremely time consuming. Hence why we will perform this analysis only on a small sample for now."
   ]
  },
  {
   "cell_type": "code",
   "execution_count": 12,
   "id": "69e8cc70-c368-4c38-8274-c70845319ff0",
   "metadata": {},
   "outputs": [],
   "source": [
    "# Narrowing down the questions into two categories\n",
    "def determine_value(row):\n",
    "    if row['clean_value'] > 800:\n",
    "        return 1\n",
    "    else:\n",
    "        return 0\n",
    "\n",
    "# Adding a high_value column to determine which questions are high and low value\n",
    "jeopardy['high_value'] = jeopardy.apply(determine_value, axis=1)"
   ]
  },
  {
   "cell_type": "code",
   "execution_count": 13,
   "id": "822d178a-1c8a-4535-90b3-905bc89ec11b",
   "metadata": {},
   "outputs": [],
   "source": [
    "# Finding the number of low_value and high_value questions each word occur in \n",
    "def value_count(word):\n",
    "    low_count = 0\n",
    "    high_count = 0 \n",
    "    for i, row in jeopardy.iterrows(): # iterating through each row in the dataset \n",
    "        if word in row['clean_question'].split(\" \"): # splitting each word around whitespaces to create a python list  \n",
    "            if row['high_value'] == 1: # checking if the word is in a question that has a high value \n",
    "                high_count += 1 # incrementing high_count if the word appear in a high-value question\n",
    "            else:\n",
    "                low_count += 1\n",
    "    return high_count, low_count # returning the final count of low and high-value words "
   ]
  },
  {
   "cell_type": "code",
   "execution_count": null,
   "id": "656f1404-cf4b-45d4-822c-ebc357167527",
   "metadata": {},
   "outputs": [
    {
     "name": "stderr",
     "output_type": "stream",
     "text": [
      "/var/folders/qs/fdrj_gks73v_3fn5zbpyl2000000gn/T/ipykernel_35720/2636458941.py:2: DeprecationWarning: Sampling from a set deprecated\n",
      "since Python 3.9 and will be removed in a subsequent version.\n",
      "  comparison_terms = random.sample(terms_used, 10) # randomly picking ten elements from terms_used\n"
     ]
    }
   ],
   "source": [
    "# Applying value_count function on a random selection of words \n",
    "comparison_terms = random.sample(terms_used, 10) # randomly picking ten elements from terms_used \n",
    "observed_expected = [] # initiating an empty list \n",
    "\n",
    "for word in comparison_terms:\n",
    "    v = value_count(word) \n",
    "    observed_expected.append(v) # running function on the term to get high and low value counts "
   ]
  },
  {
   "cell_type": "code",
   "execution_count": 19,
   "id": "ff99170f-1cd7-4e51-980f-855ea4675ebd",
   "metadata": {},
   "outputs": [
    {
     "data": {
      "text/plain": [
       "[(0, 1),\n",
       " (1, 3),\n",
       " (2, 9),\n",
       " (0, 1),\n",
       " (1, 1),\n",
       " (1, 0),\n",
       " (1, 0),\n",
       " (1, 3),\n",
       " (0, 1),\n",
       " (67, 77)]"
      ]
     },
     "execution_count": 19,
     "metadata": {},
     "output_type": "execute_result"
    }
   ],
   "source": [
    "observed_expected"
   ]
  },
  {
   "cell_type": "markdown",
   "id": "bf3d5e1f-a12c-4ed1-bb45-f90d54247da8",
   "metadata": {},
   "source": [
    "# Applying the Chi-squared Test"
   ]
  },
  {
   "cell_type": "markdown",
   "id": "d34d595b-6033-4c03-8b13-a7bfc449c8c1",
   "metadata": {},
   "source": [
    "Now that we've computed the observed counts for a few terms, we can compute the expected counts and the chi-squared value."
   ]
  },
  {
   "cell_type": "code",
   "execution_count": 27,
   "id": "0faa3c3c-59a7-44d6-a096-75dfc1620567",
   "metadata": {},
   "outputs": [
    {
     "data": {
      "text/plain": [
       "[Power_divergenceResult(statistic=0.3949764642333513, pvalue=0.5296950912486695),\n",
       " Power_divergenceResult(statistic=0.021646150708492677, pvalue=0.8830323245068887),\n",
       " Power_divergenceResult(statistic=0.5563890274396994, pvalue=0.45571882813430864),\n",
       " Power_divergenceResult(statistic=0.3949764642333513, pvalue=0.5296950912486695),\n",
       " Power_divergenceResult(statistic=0.46338644448358013, pvalue=0.49604555208958945),\n",
       " Power_divergenceResult(statistic=2.5317964247338085, pvalue=0.11157312838169751),\n",
       " Power_divergenceResult(statistic=2.5317964247338085, pvalue=0.11157312838169751),\n",
       " Power_divergenceResult(statistic=0.021646150708492677, pvalue=0.8830323245068887),\n",
       " Power_divergenceResult(statistic=0.3949764642333513, pvalue=0.5296950912486695),\n",
       " Power_divergenceResult(statistic=23.535066715761165, pvalue=1.2265772157679437e-06)]"
      ]
     },
     "execution_count": 27,
     "metadata": {},
     "output_type": "execute_result"
    }
   ],
   "source": [
    "# Computing the expected counts, the chi-squared value, and the p-value\n",
    "high_value_count = jeopardy[jeopardy['high_value'] == 1].shape[0]\n",
    "low_value_count = jeopardy[jeopardy['high_value'] == 0].shape[0]\n",
    "chisquared = []\n",
    "\n",
    "for obs in observed_expected:\n",
    "    total = sum(obs) # adding up both items in the list (high and low counts) to get the total count \n",
    "    total_prop = total / jeopardy.shape[0] # calculating the proportion of the total count across the dataset \n",
    "    high_value_exp = total_prop * high_value_count # computing the expected term count for high value rows\n",
    "    low_value_exp = total_prop * low_value_count # computing the expected term count for low value rows\n",
    "    \n",
    "    observed = np.array([obs[0], obs[1]]) \n",
    "    expected = np.array([high_value_exp, low_value_exp])\n",
    "    chisquared.append(chisquare(observed, expected)) # computing the chi-squared value and p-value given the expected and observed counts\n",
    "    \n",
    "chisquared"
   ]
  },
  {
   "cell_type": "markdown",
   "id": "da2bfe87-976e-4dbb-9128-dc409de6e731",
   "metadata": {},
   "source": [
    "As observed above, no statistically significant difference was found between high value and low value rows. Moreover, the frequencies are all lower than `5`, so the chi-squared test is not as valid. It might be better to run this test only with terms that have higher frequencies."
   ]
  },
  {
   "cell_type": "markdown",
   "id": "411413a5-414b-4eb7-98e0-5063c014391e",
   "metadata": {},
   "source": [
    "# Conclusion"
   ]
  },
  {
   "cell_type": "markdown",
   "id": "d8bbf68c-b489-4403-acd9-9c0ddfad1bfd",
   "metadata": {},
   "source": [
    "In this project, we looked for a way to win Jeopardy by analysing a Jeopardy dataset. We've tried to discover useful patterns by answering to the following questions:\n",
    "\n",
    "- \"How often can an answer be used for a question?\"\n",
    "- \"How often are questions repeated?\"\n",
    "- \"Are high-value questions more useful to win than low-value questions?\"\n",
    "\n",
    "Overall, we did not find any statistically significant relationship among the variables we have investigated. Here are the answers that we found to the abovementioned questions:\n",
    "\n",
    "- Only 5.7% of questions have their answers in the questions asked, which means that we cannot win trying to discover the answers of questions using the question itself.\n",
    "- Questions are repeated 87% of the time. Although we're only looking at a small set of questions, this finding means that it might be worth investigating repeated questions further.\n",
    "- No statistically significant difference was found between high value and low value rows. Moreover, the frequencies are all lower than 5, so the chi-squared test is not as valid. \n",
    "\n",
    "Thus, further analysis is needed to find more relevant correlations. We think that further analysis might be needed to find more significant correlations. For example, we could find a better way to eleiminate non-informative words than just removing words that are less than `6` characters long. This strategy could be achieved by manually creating a list of words to remove (g.e., `the`, `than`, etc.), or remove words that occur in more than a certain percentage (g.e., `5%`) of questions. "
   ]
  }
 ],
 "metadata": {
  "kernelspec": {
   "display_name": "Python 3 (ipykernel)",
   "language": "python",
   "name": "python3"
  },
  "language_info": {
   "codemirror_mode": {
    "name": "ipython",
    "version": 3
   },
   "file_extension": ".py",
   "mimetype": "text/x-python",
   "name": "python",
   "nbconvert_exporter": "python",
   "pygments_lexer": "ipython3",
   "version": "3.9.12"
  }
 },
 "nbformat": 4,
 "nbformat_minor": 5
}
