{
 "cells": [
  {
   "cell_type": "markdown",
   "id": "2362c306-bbcb-4730-9421-ef778610901f",
   "metadata": {},
   "source": [
    "# Treating Gambling Addiction - Building a Probability App for Lottery Players "
   ]
  },
  {
   "cell_type": "markdown",
   "id": "871969ab-4dc9-402e-86df-d0bf48bbecbc",
   "metadata": {},
   "source": [
    "# Introduction"
   ]
  },
  {
   "cell_type": "markdown",
   "id": "ea9fca4d-6052-4b16-add5-a8ceed4ed5d6",
   "metadata": {},
   "source": [
    "The purpose of this project is to build a mobile app to help lottery addicts better estimate their chances of winning. Many people start playing the lottery for fun, but for some this activity turns into a habit which eventually escalates into addiction. Like other compulsive gamblers, lottery addicts soon begin spending from their savings and loans, they start to accumulate debts, and eventually engage in desperate behaviors like theft. \n",
    "\n",
    "A medical institute that aims to prevent and treat gambling addictions wants to build a dedicated mobile app to mitigate the issue. The institute has a team of engineers that will build the app, but they need us to create the logical core of the app and calculate probabilities. \n",
    "\n",
    "More specifically, our goal is to answer the following questions:\n",
    "- What is the probability of winning the big prize with a single ticket?\n",
    "- What is the probability of winning the big prize if we play 40 different tickets (or any other number)?\n",
    "- What is the probability of having at least five (or four, or three, or two) winning numbers on a single ticket?\n",
    "\n",
    "Thanks to our analysis, we found out that the probabilities of winning the lottery are quite low in all three scenarios. Let's now start creating the core functions to discover how we got to such results."
   ]
  },
  {
   "cell_type": "markdown",
   "id": "bd942b43-a8b0-40b8-99aa-d1ddf1538692",
   "metadata": {},
   "source": [
    "# Core Functions"
   ]
  },
  {
   "cell_type": "markdown",
   "id": "ef99151e-c847-4b72-98b8-9f371e56075e",
   "metadata": {},
   "source": [
    "Throughout the project, we'll need to calculate probabilities and combinations. As a consequence, we'll start by writing two functions that we'll use often:\n",
    "\n",
    "- A function that calculates factorials; and\n",
    "- A function that calculates combinations.\n",
    "\n",
    "It's worth mentioning that in the 6/49 lottery, six numbers are drawn from a set of 49 numbers that range from 1 to 49. The drawing is done without replacement, which means once a number is drawn, it's not put back in the set.\n",
    "\n",
    "Let's now try to create the two functions."
   ]
  },
  {
   "cell_type": "code",
   "execution_count": 1,
   "id": "8fb68195-46eb-41cc-83ea-5642f789b60e",
   "metadata": {},
   "outputs": [],
   "source": [
    "# Creating a function that calculates factorials\n",
    "def factorial(n):\n",
    "    final_product = 1\n",
    "    for i in range(n, 0, -1):\n",
    "        final_product *= i\n",
    "    return final_product\n",
    "\n",
    "# Creating a function that calculates combinations\n",
    "def combinations(n, k):\n",
    "    numerator = factorial(n)\n",
    "    denominator = factorial(k)*factorial(n-k)\n",
    "    return numerator / denominator "
   ]
  },
  {
   "cell_type": "markdown",
   "id": "da553ae2-9460-48b6-8bda-190c551c7d4f",
   "metadata": {},
   "source": [
    "# One-ticket Probability"
   ]
  },
  {
   "cell_type": "markdown",
   "id": "fa7749eb-f8fd-4152-a7f1-791f58afd258",
   "metadata": {},
   "source": [
    "Now that we've created the two core functions, we can focus on building the next ones. We'll now aim at writing a function that calculates the probability of winning the big prize. More specifically, we'll answer the first of the three goal questions: \n",
    "\n",
    "*\"What is the probability of winning the big prize with a single ticket?\"* \n",
    "\n",
    "For the first version of the app, we want players to be able to calculate the probability of winning the big prize with the various numbers they play on a single ticket (remember that for each ticket a player chooses six numbers out of 49). So, we'll start by building a function that calculates the probability of winning the big prize for any given ticket."
   ]
  },
  {
   "cell_type": "code",
   "execution_count": 2,
   "id": "23a78f4f-1533-4c43-bd05-1a580c8c231c",
   "metadata": {
    "tags": []
   },
   "outputs": [],
   "source": [
    "# Creating a function that calculates the probability of winning the big prize \n",
    "def one_ticket_probability(ticket):\n",
    "    c = combinations(49, 6)\n",
    "    outcome = 1 \n",
    "    probability = outcome / c\n",
    "    probability_pct = probability*100 # calculating the percentage of the probability \n",
    "    print (\n",
    "    \"You have a 1 in {:,} or {:7f}% chance of winning with {}\".format(c, probability_pct, ticket)) # printing values in a friendly way for non-technical audiences "
   ]
  },
  {
   "cell_type": "code",
   "execution_count": 3,
   "id": "08988623-af93-4f55-a470-268996598daa",
   "metadata": {},
   "outputs": [
    {
     "name": "stdout",
     "output_type": "stream",
     "text": [
      "You have a 1 in 13,983,816.0 or 0.000007% chance of winning with [1, 2, 5, 3, 7, 11]\n",
      "\n",
      "\n",
      "You have a 1 in 13,983,816.0 or 0.000007% chance of winning with [12, 31, 22, 8, 16, 49]\n"
     ]
    }
   ],
   "source": [
    "# Testing the function with a few inputs \n",
    "ticket_test_1 = [1, 2, 5, 3, 7, 11]\n",
    "ticket_test_2 = [12, 31, 22, 8, 16, 49]\n",
    "one_ticket_probability(ticket_test_1)\n",
    "print('\\n')\n",
    "one_ticket_probability(ticket_test_2)"
   ]
  },
  {
   "cell_type": "markdown",
   "id": "5e19b16f-5e9a-4040-be50-badf8a3838ce",
   "metadata": {},
   "source": [
    "In the above steps, we created a function to calculate the probability for users to win the big prize. We calculated the total number of possible outcomes by using the `combinations()` function. Then, we divided 1 by that combination, since the number of successful outcomes is one. So, we calculated the probability of winning, which we then converted into percentage. Finally, we used the `str.format()` method to make the result more friendly for users."
   ]
  },
  {
   "cell_type": "markdown",
   "id": "35980728-593c-49c3-b5bf-f7fccfa01d43",
   "metadata": {},
   "source": [
    "# Historical Data Check for Canada Lottery"
   ]
  },
  {
   "cell_type": "markdown",
   "id": "9ee9d50e-ad6b-480a-a536-f0c20480858b",
   "metadata": {},
   "source": [
    "So far, we've managed to find the probability of winning the big prize with a single ticket. For the first version of the app, however, users should also be able to compare their ticket against the historical lottery data in Canada and determine whether they would have ever won by now.\n",
    "\n",
    "So, now we'll focus on exploring the historical data coming from the Canada 6/49 lottery. Let's read in the dataset and explore it first."
   ]
  },
  {
   "cell_type": "code",
   "execution_count": 4,
   "id": "37e882ee-8a59-4079-8cbb-de927ce73cab",
   "metadata": {},
   "outputs": [],
   "source": [
    "# Reading in the dataset \n",
    "import pandas as pd \n",
    "lot_649 = pd.read_csv(\"~/Desktop/my_projects/data/{0}\".format('649.csv'))"
   ]
  },
  {
   "cell_type": "code",
   "execution_count": 5,
   "id": "4603a1c8-6c0f-42e8-976b-9db87aec9f15",
   "metadata": {},
   "outputs": [
    {
     "data": {
      "text/plain": [
       "(3665, 11)"
      ]
     },
     "execution_count": 5,
     "metadata": {},
     "output_type": "execute_result"
    }
   ],
   "source": [
    "lot_649.shape"
   ]
  },
  {
   "cell_type": "code",
   "execution_count": 6,
   "id": "86304d00-8180-4bf3-bc9e-e28db6387fda",
   "metadata": {},
   "outputs": [
    {
     "data": {
      "text/html": [
       "<div>\n",
       "<style scoped>\n",
       "    .dataframe tbody tr th:only-of-type {\n",
       "        vertical-align: middle;\n",
       "    }\n",
       "\n",
       "    .dataframe tbody tr th {\n",
       "        vertical-align: top;\n",
       "    }\n",
       "\n",
       "    .dataframe thead th {\n",
       "        text-align: right;\n",
       "    }\n",
       "</style>\n",
       "<table border=\"1\" class=\"dataframe\">\n",
       "  <thead>\n",
       "    <tr style=\"text-align: right;\">\n",
       "      <th></th>\n",
       "      <th>PRODUCT</th>\n",
       "      <th>DRAW NUMBER</th>\n",
       "      <th>SEQUENCE NUMBER</th>\n",
       "      <th>DRAW DATE</th>\n",
       "      <th>NUMBER DRAWN 1</th>\n",
       "      <th>NUMBER DRAWN 2</th>\n",
       "      <th>NUMBER DRAWN 3</th>\n",
       "      <th>NUMBER DRAWN 4</th>\n",
       "      <th>NUMBER DRAWN 5</th>\n",
       "      <th>NUMBER DRAWN 6</th>\n",
       "      <th>BONUS NUMBER</th>\n",
       "    </tr>\n",
       "  </thead>\n",
       "  <tbody>\n",
       "    <tr>\n",
       "      <th>0</th>\n",
       "      <td>649</td>\n",
       "      <td>1</td>\n",
       "      <td>0</td>\n",
       "      <td>6/12/1982</td>\n",
       "      <td>3</td>\n",
       "      <td>11</td>\n",
       "      <td>12</td>\n",
       "      <td>14</td>\n",
       "      <td>41</td>\n",
       "      <td>43</td>\n",
       "      <td>13</td>\n",
       "    </tr>\n",
       "    <tr>\n",
       "      <th>1</th>\n",
       "      <td>649</td>\n",
       "      <td>2</td>\n",
       "      <td>0</td>\n",
       "      <td>6/19/1982</td>\n",
       "      <td>8</td>\n",
       "      <td>33</td>\n",
       "      <td>36</td>\n",
       "      <td>37</td>\n",
       "      <td>39</td>\n",
       "      <td>41</td>\n",
       "      <td>9</td>\n",
       "    </tr>\n",
       "    <tr>\n",
       "      <th>2</th>\n",
       "      <td>649</td>\n",
       "      <td>3</td>\n",
       "      <td>0</td>\n",
       "      <td>6/26/1982</td>\n",
       "      <td>1</td>\n",
       "      <td>6</td>\n",
       "      <td>23</td>\n",
       "      <td>24</td>\n",
       "      <td>27</td>\n",
       "      <td>39</td>\n",
       "      <td>34</td>\n",
       "    </tr>\n",
       "    <tr>\n",
       "      <th>3</th>\n",
       "      <td>649</td>\n",
       "      <td>4</td>\n",
       "      <td>0</td>\n",
       "      <td>7/3/1982</td>\n",
       "      <td>3</td>\n",
       "      <td>9</td>\n",
       "      <td>10</td>\n",
       "      <td>13</td>\n",
       "      <td>20</td>\n",
       "      <td>43</td>\n",
       "      <td>34</td>\n",
       "    </tr>\n",
       "    <tr>\n",
       "      <th>4</th>\n",
       "      <td>649</td>\n",
       "      <td>5</td>\n",
       "      <td>0</td>\n",
       "      <td>7/10/1982</td>\n",
       "      <td>5</td>\n",
       "      <td>14</td>\n",
       "      <td>21</td>\n",
       "      <td>31</td>\n",
       "      <td>34</td>\n",
       "      <td>47</td>\n",
       "      <td>45</td>\n",
       "    </tr>\n",
       "  </tbody>\n",
       "</table>\n",
       "</div>"
      ],
      "text/plain": [
       "   PRODUCT  DRAW NUMBER  SEQUENCE NUMBER  DRAW DATE  NUMBER DRAWN 1  \\\n",
       "0      649            1                0  6/12/1982               3   \n",
       "1      649            2                0  6/19/1982               8   \n",
       "2      649            3                0  6/26/1982               1   \n",
       "3      649            4                0   7/3/1982               3   \n",
       "4      649            5                0  7/10/1982               5   \n",
       "\n",
       "   NUMBER DRAWN 2  NUMBER DRAWN 3  NUMBER DRAWN 4  NUMBER DRAWN 5  \\\n",
       "0              11              12              14              41   \n",
       "1              33              36              37              39   \n",
       "2               6              23              24              27   \n",
       "3               9              10              13              20   \n",
       "4              14              21              31              34   \n",
       "\n",
       "   NUMBER DRAWN 6  BONUS NUMBER  \n",
       "0              43            13  \n",
       "1              41             9  \n",
       "2              39            34  \n",
       "3              43            34  \n",
       "4              47            45  "
      ]
     },
     "execution_count": 6,
     "metadata": {},
     "output_type": "execute_result"
    }
   ],
   "source": [
    "lot_649.head()"
   ]
  },
  {
   "cell_type": "code",
   "execution_count": 7,
   "id": "fb45f7df-0941-4723-97bf-26fdb5646fb2",
   "metadata": {},
   "outputs": [
    {
     "data": {
      "text/html": [
       "<div>\n",
       "<style scoped>\n",
       "    .dataframe tbody tr th:only-of-type {\n",
       "        vertical-align: middle;\n",
       "    }\n",
       "\n",
       "    .dataframe tbody tr th {\n",
       "        vertical-align: top;\n",
       "    }\n",
       "\n",
       "    .dataframe thead th {\n",
       "        text-align: right;\n",
       "    }\n",
       "</style>\n",
       "<table border=\"1\" class=\"dataframe\">\n",
       "  <thead>\n",
       "    <tr style=\"text-align: right;\">\n",
       "      <th></th>\n",
       "      <th>PRODUCT</th>\n",
       "      <th>DRAW NUMBER</th>\n",
       "      <th>SEQUENCE NUMBER</th>\n",
       "      <th>DRAW DATE</th>\n",
       "      <th>NUMBER DRAWN 1</th>\n",
       "      <th>NUMBER DRAWN 2</th>\n",
       "      <th>NUMBER DRAWN 3</th>\n",
       "      <th>NUMBER DRAWN 4</th>\n",
       "      <th>NUMBER DRAWN 5</th>\n",
       "      <th>NUMBER DRAWN 6</th>\n",
       "      <th>BONUS NUMBER</th>\n",
       "    </tr>\n",
       "  </thead>\n",
       "  <tbody>\n",
       "    <tr>\n",
       "      <th>3660</th>\n",
       "      <td>649</td>\n",
       "      <td>3587</td>\n",
       "      <td>0</td>\n",
       "      <td>6/6/2018</td>\n",
       "      <td>10</td>\n",
       "      <td>15</td>\n",
       "      <td>23</td>\n",
       "      <td>38</td>\n",
       "      <td>40</td>\n",
       "      <td>41</td>\n",
       "      <td>35</td>\n",
       "    </tr>\n",
       "    <tr>\n",
       "      <th>3661</th>\n",
       "      <td>649</td>\n",
       "      <td>3588</td>\n",
       "      <td>0</td>\n",
       "      <td>6/9/2018</td>\n",
       "      <td>19</td>\n",
       "      <td>25</td>\n",
       "      <td>31</td>\n",
       "      <td>36</td>\n",
       "      <td>46</td>\n",
       "      <td>47</td>\n",
       "      <td>26</td>\n",
       "    </tr>\n",
       "    <tr>\n",
       "      <th>3662</th>\n",
       "      <td>649</td>\n",
       "      <td>3589</td>\n",
       "      <td>0</td>\n",
       "      <td>6/13/2018</td>\n",
       "      <td>6</td>\n",
       "      <td>22</td>\n",
       "      <td>24</td>\n",
       "      <td>31</td>\n",
       "      <td>32</td>\n",
       "      <td>34</td>\n",
       "      <td>16</td>\n",
       "    </tr>\n",
       "    <tr>\n",
       "      <th>3663</th>\n",
       "      <td>649</td>\n",
       "      <td>3590</td>\n",
       "      <td>0</td>\n",
       "      <td>6/16/2018</td>\n",
       "      <td>2</td>\n",
       "      <td>15</td>\n",
       "      <td>21</td>\n",
       "      <td>31</td>\n",
       "      <td>38</td>\n",
       "      <td>49</td>\n",
       "      <td>8</td>\n",
       "    </tr>\n",
       "    <tr>\n",
       "      <th>3664</th>\n",
       "      <td>649</td>\n",
       "      <td>3591</td>\n",
       "      <td>0</td>\n",
       "      <td>6/20/2018</td>\n",
       "      <td>14</td>\n",
       "      <td>24</td>\n",
       "      <td>31</td>\n",
       "      <td>35</td>\n",
       "      <td>37</td>\n",
       "      <td>48</td>\n",
       "      <td>17</td>\n",
       "    </tr>\n",
       "  </tbody>\n",
       "</table>\n",
       "</div>"
      ],
      "text/plain": [
       "      PRODUCT  DRAW NUMBER  SEQUENCE NUMBER  DRAW DATE  NUMBER DRAWN 1  \\\n",
       "3660      649         3587                0   6/6/2018              10   \n",
       "3661      649         3588                0   6/9/2018              19   \n",
       "3662      649         3589                0  6/13/2018               6   \n",
       "3663      649         3590                0  6/16/2018               2   \n",
       "3664      649         3591                0  6/20/2018              14   \n",
       "\n",
       "      NUMBER DRAWN 2  NUMBER DRAWN 3  NUMBER DRAWN 4  NUMBER DRAWN 5  \\\n",
       "3660              15              23              38              40   \n",
       "3661              25              31              36              46   \n",
       "3662              22              24              31              32   \n",
       "3663              15              21              31              38   \n",
       "3664              24              31              35              37   \n",
       "\n",
       "      NUMBER DRAWN 6  BONUS NUMBER  \n",
       "3660              41            35  \n",
       "3661              47            26  \n",
       "3662              34            16  \n",
       "3663              49             8  \n",
       "3664              48            17  "
      ]
     },
     "execution_count": 7,
     "metadata": {},
     "output_type": "execute_result"
    }
   ],
   "source": [
    "lot_649.tail()"
   ]
  },
  {
   "cell_type": "markdown",
   "id": "5a6d03f3-fa9d-43a8-97aa-3a54bd934536",
   "metadata": {},
   "source": [
    "As shown above, The data set contains historical data for 3,665 drawings (each row shows data for a single drawing), dating from 1982 to 2018. For each drawing, we can find the six numbers drawn in the following six columns:\n",
    "\n",
    "- `NUMBER DRAWN 1`\n",
    "- `NUMBER DRAWN 2`\n",
    "- `NUMBER DRAWN 3`\n",
    "- `NUMBER DRAWN 4`\n",
    "- `NUMBER DRAWN 5`\n",
    "- `NUMBER DRAWN 6`"
   ]
  },
  {
   "cell_type": "markdown",
   "id": "615a9b13-433f-4bf1-8ec6-6bbc40eb4093",
   "metadata": {},
   "source": [
    "## Function for Historical Data Check"
   ]
  },
  {
   "cell_type": "markdown",
   "id": "3470153a-51c3-46ed-b97c-5382a0b5f30d",
   "metadata": {},
   "source": [
    "Now that we've briefly explored the Canada lottery data set, we're going to analyse this historical data. We'll write a function that enables us to compare users' ticket against the historical lottery data in Canada and determine whether they would have ever won by now. This will then help us answer the second of the three goal questions: \n",
    "\n",
    "*\"What is the probability of winning the big prize if we play 40 different tickets (or any other number)?\"*\n",
    "\n",
    "Firstly, we'll extract all the winning six numbers from the historical data set as Python sets with a function named `extract_numbers()`. Next, we'll write a function named `check_historical_occurence()` that takes in two inputs: a Python list containing the user numbers and a pandas Series containing sets with the winning numbers (this is the series we'll extract using the `extract_numbers()` function). Finally, we'll test our functions with a few inputs."
   ]
  },
  {
   "cell_type": "code",
   "execution_count": 8,
   "id": "825214f8-0be9-48e6-975b-4dd458659a58",
   "metadata": {},
   "outputs": [
    {
     "data": {
      "text/plain": [
       "0    {3, 41, 11, 12, 43, 14}\n",
       "1    {33, 36, 37, 39, 8, 41}\n",
       "2     {1, 6, 39, 23, 24, 27}\n",
       "3     {3, 9, 10, 43, 13, 20}\n",
       "4    {34, 5, 14, 47, 21, 31}\n",
       "dtype: object"
      ]
     },
     "execution_count": 8,
     "metadata": {},
     "output_type": "execute_result"
    }
   ],
   "source": [
    "def extract_numbers(row):\n",
    "    # Converting values in selected columns to a set\n",
    "    row = row[['NUMBER DRAWN 1', 'NUMBER DRAWN 2', 'NUMBER DRAWN 3', \n",
    "               'NUMBER DRAWN 4', 'NUMBER DRAWN 5', 'NUMBER DRAWN 6']] \n",
    "    row = set(row.values)\n",
    "    return row \n",
    "\n",
    "# Extracting all the winning numbers through the apply() method\n",
    "winning_numbers = lot_649.apply(extract_numbers, axis=1)\n",
    "winning_numbers.head()"
   ]
  },
  {
   "cell_type": "code",
   "execution_count": 9,
   "id": "eba539ba-783c-4ff2-b73d-fb88f7f8f9aa",
   "metadata": {},
   "outputs": [],
   "source": [
    "# Comparing the user input (python list) with the winning_numbers (pandas series)\n",
    "# Calculating the number of times the users input has occurred before using winning_numbers as a reference \n",
    "def check_historical_occurrence(user_no, winning_no):\n",
    "    user_no = set(user_no)\n",
    "    result = user_no == winning_no\n",
    "    historical_occurrence = result.sum()\n",
    "        \n",
    "    if historical_occurrence == 0:\n",
    "        print(\"\"\"\n",
    "The combination {} has never occurred in the past. \n",
    "However, your chances to win the next draw with {} are 1 in 13,983,816 or 0.0000072%. \n",
    "\"\"\".format(user_no, user_no) \n",
    "             ) # printing values in a friendly way for non-technical audiences \n",
    "    else:\n",
    "        print(\"\"\"\n",
    "The combination {} has occurred {} times in the past. \n",
    "However, this doesn't guarantee that you'll win the next draw.\n",
    "You have a 1 in 13,983,816 or 0.0000072% chance of winning with {}.\n",
    "\"\"\".format(user_no, historical_occurrence, user_no)\n",
    "             )"
   ]
  },
  {
   "cell_type": "code",
   "execution_count": 10,
   "id": "1f30f59f-9258-4526-873f-5c862cab9b46",
   "metadata": {},
   "outputs": [
    {
     "name": "stdout",
     "output_type": "stream",
     "text": [
      "\n",
      "The combination {1, 2, 3, 7, 11, 48} has never occurred in the past. \n",
      "However, your chances to win the next draw with {1, 2, 3, 7, 11, 48} are 1 in 13,983,816 or 0.0000072%. \n",
      "\n",
      "\n",
      "\n",
      "\n",
      "The combination {38, 8, 16, 49, 19, 31} has never occurred in the past. \n",
      "However, your chances to win the next draw with {38, 8, 16, 49, 19, 31} are 1 in 13,983,816 or 0.0000072%. \n",
      "\n"
     ]
    }
   ],
   "source": [
    "# Testing the function above\n",
    "user_no_test_1 = [1, 2, 11, 3, 7, 48]\n",
    "user_no_test_2 = [19, 31, 38, 8, 16, 49]\n",
    "test_1 = check_historical_occurrence(user_no_test_1, winning_numbers)\n",
    "print('\\n')\n",
    "test_2 = check_historical_occurrence(user_no_test_2, winning_numbers)"
   ]
  },
  {
   "cell_type": "markdown",
   "id": "230570fe-9cbb-4306-81cf-9b6aefccb143",
   "metadata": {},
   "source": [
    "To compare the users numbers to the historical data, we created two functions. The first function is `extract_numbers()`. It helped us extract the winning numbers from the historical dataset as a pandas series. This enables to isolate the winning numbers from the data frame. The second function is `check_historical_occurrence()`. This function takes in the user's input as a python list, and a pandas series of the past winning numbers. This function then trurns the python list into a set so that it can compare it to the sets in our pandas series. This is helpful because it makes us check if there are any matches in the two sets. If there's a match, the function prints the number of matches and the probability of winning the big prize. This will give lottery addicts a more realistic perspective on what to expect."
   ]
  },
  {
   "cell_type": "markdown",
   "id": "2eb75851-427e-4b8d-a423-5e001bc73348",
   "metadata": {
    "tags": []
   },
   "source": [
    "## Multi-ticket Probability"
   ]
  },
  {
   "cell_type": "markdown",
   "id": "d3c65e4a-ebd6-41b7-a12f-8cd8221456bb",
   "metadata": {},
   "source": [
    "Lottery addicts play more than one ticket on a single drawing. They think that this might increase their chances of winning. Let's help them better estimate their chances of winning. We will write a function to calculate the chances of winning for any number of different tickets. In this way, we'll be able to answer the second of the three goal questions. "
   ]
  },
  {
   "cell_type": "code",
   "execution_count": 11,
   "id": "9c62f8a1-d6d2-4a25-9e0a-b956f1ac98fc",
   "metadata": {},
   "outputs": [],
   "source": [
    "# Writing a function that prints the probability of winning the big prize depending on the number of different tickets played\n",
    "def multi_ticket_probability(n_tickets):\n",
    "    tot_outcomes = combinations(49, 6)\n",
    "    winning_outcomes = n_tickets\n",
    "    probability = winning_outcomes / tot_outcomes\n",
    "    probability_pct = probability * 100 # Calculating probability in percentage \n",
    "    if n_tickets == 1:\n",
    "        print(\n",
    "'''You have a 1 in {:,} or a {:.7f}% chance of winning\n",
    "if you play with {:,} ticket. \n",
    "'''.format(tot_outcomes, probability_pct, n_tickets)\n",
    "        ) # Printing values in a friendly way for non-technical audiences \n",
    "\n",
    "    else:\n",
    "        new_tot_outcomes = int(tot_outcomes/winning_outcomes)\n",
    "        print(\n",
    "'''You have a 1 in {:,} or a {:.7f}% chance of winning\n",
    "if you play with {:,} tickets. \n",
    "'''.format(new_tot_outcomes, probability_pct, n_tickets)\n",
    "        )"
   ]
  },
  {
   "cell_type": "code",
   "execution_count": 12,
   "id": "90bf1666-1057-4315-9c5f-e5dc4b67d6dc",
   "metadata": {},
   "outputs": [
    {
     "name": "stdout",
     "output_type": "stream",
     "text": [
      "You have a 1 in 13,983,816.0 or a 0.0000072% chance of winning\n",
      "if you play with 1 ticket. \n",
      "\n",
      "You have a 1 in 1,398,381 or a 0.0000715% chance of winning\n",
      "if you play with 10 tickets. \n",
      "\n",
      "You have a 1 in 139,838 or a 0.0007151% chance of winning\n",
      "if you play with 100 tickets. \n",
      "\n",
      "You have a 1 in 1,398 or a 0.0715112% chance of winning\n",
      "if you play with 10,000 tickets. \n",
      "\n",
      "You have a 1 in 13 or a 7.1511238% chance of winning\n",
      "if you play with 1,000,000 tickets. \n",
      "\n",
      "You have a 1 in 2 or a 50.0000000% chance of winning\n",
      "if you play with 6,991,908 tickets. \n",
      "\n",
      "You have a 1 in 1 or a 100.0000000% chance of winning\n",
      "if you play with 13,983,816 tickets. \n",
      "\n"
     ]
    }
   ],
   "source": [
    "# Testing function using different inputs \n",
    "test_1 = [1, 10, 100, 10000, 1000000, 6991908, 13983816]\n",
    "\n",
    "for i in test_1:\n",
    "    multi_ticket_probability(i)"
   ]
  },
  {
   "cell_type": "markdown",
   "id": "2d4f4c9b-f55f-4fa2-af97-64a98fc3fe40",
   "metadata": {},
   "source": [
    "We created a function to help users better estimate their chances of winning. The function is `multi_ticket_probability()` and it helped us calculate the chances of winning for any number of different tickets. This function takes in the number of tickets that the user wants to play with. It then calculates the total number of possible outcomes through the `combinations()` function. It also calculates the probability for the number of tickets inputted in percentages. Finally, the function prints the probability of winning with the amount of tickets, which will give users a chance to better estimate their probabilities of winning depending on their number of tickets.\n",
    "\n",
    "As shown above, the probability of winning increases the more tickets users input. However, users should play with a ridiculously high amount of tickets to get any significant chance of winning. For instance, it takes 1,000,000 tickets to have only a 7% chance of winning. "
   ]
  },
  {
   "cell_type": "markdown",
   "id": "2591584e-f913-4560-9b73-6086618d382b",
   "metadata": {},
   "source": [
    "# Less Winning Numbers — Function"
   ]
  },
  {
   "cell_type": "markdown",
   "id": "3d13bede-909f-4b4a-b170-3fb3e8be800e",
   "metadata": {},
   "source": [
    "Now we're going to write a function to allow the users to calculate probabilities for two, three, four, or five winning numbers. In this way, we'll answer the third and last one of the three goal questions: \n",
    "\n",
    "*\"What is the probability of having at least five (or four, or three, or two) winning numbers on a single ticket?\"*\n",
    "\n",
    "For more context, in most 6/49 lotteries there are smaller prizes if a player's ticket match two to five of the six numbers drawn. So the user wants to know the probability of having two, three, four, or five winning numbers.\n",
    "\n",
    "We'll first write a function named `probability_less_6()` which takes in an integer between `2` and `5` and prints information about the chances of winning depending on the value of that integer. We'll then test the function with a couple of random inputs."
   ]
  },
  {
   "cell_type": "code",
   "execution_count": 13,
   "id": "7256ba6a-dc87-45fa-882b-99a318049262",
   "metadata": {},
   "outputs": [],
   "source": [
    "def probability_less_6(n):\n",
    "    # Finding the probability of having 2 to 5 winning numbers in a ticket\n",
    "    tot_outcomes = combinations(49, 6)\n",
    "    winning_outcomes = {}\n",
    "    \n",
    "    # Calculating the total combinations of numbers between 2 and 5 if chosen from a set of 6 numbers\n",
    "    for i in range(2,6): \n",
    "        c = combinations(6, i) \n",
    "        remainder = combinations(43, 6 - i)\n",
    "    \n",
    "    # Finding the possible outcomes of picking any winning number between 2 and 5 from the 43 remaining numbers\n",
    "        outcome = c * remainder\n",
    "        winning_outcomes[i] = outcome\n",
    "    \n",
    "    # Calculating the probability of having n  winning numbers in a ticket\n",
    "    if n in winning_outcomes:\n",
    "        winning_outcome = winning_outcomes[n]\n",
    "    \n",
    "    probability = winning_outcome / tot_outcomes\n",
    "    probability_pct = probability  * 100 # Multiplying by 100 converts to a percentage\n",
    "    new_tot_outcomes = int(tot_outcomes / winning_outcome)\n",
    "    \n",
    "    print('''\n",
    "You have a 1 in {:,} chance, \n",
    "or a {:.4f}% chance of having {} winning numbers on a ticket.\n",
    "'''.format(new_tot_outcomes, probability_pct, n)\n",
    "         )"
   ]
  },
  {
   "cell_type": "code",
   "execution_count": 14,
   "id": "5b33a938-9f0a-4e99-8e93-c8923f82ac99",
   "metadata": {},
   "outputs": [
    {
     "name": "stdout",
     "output_type": "stream",
     "text": [
      "\n",
      "You have a 1 in 7 chance, \n",
      "or a 13.2378% chance of having 2 winning numbers on a ticket.\n",
      "\n",
      "\n",
      "\n",
      "\n",
      "You have a 1 in 56 chance, \n",
      "or a 1.7650% chance of having 3 winning numbers on a ticket.\n",
      "\n",
      "\n",
      "\n",
      "\n",
      "You have a 1 in 1,032 chance, \n",
      "or a 0.0969% chance of having 4 winning numbers on a ticket.\n",
      "\n",
      "\n",
      "\n",
      "\n",
      "You have a 1 in 54,200 chance, \n",
      "or a 0.0018% chance of having 5 winning numbers on a ticket.\n",
      "\n",
      "\n",
      "\n"
     ]
    }
   ],
   "source": [
    "# testing the probability_less_6 function\n",
    "n_winning = [2, 3, 4, 5]\n",
    "for i in n_winning:\n",
    "    probability_less_6(i)\n",
    "    print('\\n') # prints a newline after each iteration"
   ]
  },
  {
   "cell_type": "markdown",
   "id": "d31b287f-7efd-4a0f-8e60-b52c7c25406e",
   "metadata": {},
   "source": [
    "We created a function to calculate probabilities for two to five winning numbers. The `probability_less_6()` function follows the below steps:\n",
    "- It finds the number of winning outcomes of having between 2 to 5 winning numbers out of 6. It uses the `combinations()` function of the numbers. For instance, to find 5 winning numbers, it computes the value of 6 combinations of 5.\n",
    "- It divides the number of winning outcomes by the total number of possible outcomes. It then multiplies it by 100 to get the percentage. \n",
    "\n",
    "Lottery addicts can now know what's the realistic probability of winning the big prize. Yet, they will keep on playing. This is because in most 6/49 lotteries there are smaller prizes. But, from what we can see above, there is only a 13% chance of having 2 winning numbers on a ticket."
   ]
  },
  {
   "cell_type": "markdown",
   "id": "cb409a5b-4d85-4ee4-8f01-9356636220d8",
   "metadata": {},
   "source": [
    "# Conclusion"
   ]
  },
  {
   "cell_type": "markdown",
   "id": "35feba34-9b2f-4495-ad59-fe1b27333bca",
   "metadata": {},
   "source": [
    "In this project, our purpose was to build a mobile app to help lottery addicts better estimate their chances of winning. A medical institute that aims to prevent such issue wanted to build a dedicated mobile app. We've helped their engineering team by creating the logical core of the app and calculate probabilities. Eventually, we managed to answer the following questions: \n",
    "\n",
    "- What is the probability of winning the big prize with a single ticket?\n",
    "- What is the probability of winning the big prize if we play 40 different tickets (or any other number)?\n",
    "- What is the probability of having at least five (or four, or three, or two) winning numbers on a single ticket?\n",
    "\n",
    "We then created functions that gave us the following answers:\n",
    "- There is 1 in 13,983,816 or a 0.000072% chance of winning with a single ticket.\n",
    "- There is a 1 in 13 or a 7.2% chance of winning with a 1,000,000 tickets.\n",
    "- There is a 15.1% chance of having at least 2 winning numbers on a single ticket.\n",
    "\n",
    "Although we provided the logic behind the probabilities of winning at the lottery, we're realistically expecting players to keep on playing. However, the reasoning and logic by numbers might help persuade the less addicted players to avoid being drawn into full addiction. Whereas it might be harder for the app to be effective for the truly addicted players, whom might not be persuaded that easily. "
   ]
  }
 ],
 "metadata": {
  "kernelspec": {
   "display_name": "Python 3 (ipykernel)",
   "language": "python",
   "name": "python3"
  },
  "language_info": {
   "codemirror_mode": {
    "name": "ipython",
    "version": 3
   },
   "file_extension": ".py",
   "mimetype": "text/x-python",
   "name": "python",
   "nbconvert_exporter": "python",
   "pygments_lexer": "ipython3",
   "version": "3.9.12"
  }
 },
 "nbformat": 4,
 "nbformat_minor": 5
}
