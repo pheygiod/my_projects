{
 "cells": [
  {
   "cell_type": "markdown",
   "id": "9f2c0217-22be-454a-b4a8-7d759ee8e054",
   "metadata": {},
   "source": [
    "# Finding the Best Markets to Advertise In"
   ]
  },
  {
   "cell_type": "markdown",
   "id": "77d125b9-d609-4401-932e-2091ca490721",
   "metadata": {},
   "source": [
    "# Introduction"
   ]
  },
  {
   "cell_type": "markdown",
   "id": "222e6165-19c8-4417-abde-c1c747b6ee9a",
   "metadata": {},
   "source": [
    "We're working for an e-learning company which offers online courses on programming. Most of their courses are in web development, data science and game development. The company needs to promote their online programmes and invest some money in advertisement. Our purpose in this project is to help them find the two best markets to advertise their products in.\n",
    "\n",
    "We found a [survey](https://www.freecodecamp.org/news/we-asked-20-000-people-who-they-are-and-how-theyre-learning-to-code-fff5d668969) from freeCodeCamp which we will be using to carry out our analysis. [freeCodeCamp](https://www.freecodecamp.org/) is an online learning platform that offers courses on web development and they recently published a survey which attracted new coders with varing interests. We've explored this option since it's cheaper than organizing surveys ourselves.\n",
    "\n",
    "The solid conclusion we reached is that the US would be a good market to advertise in. For the second best market, it wasn't clear-cut what to choose between India and Canada. We decided to send the results to the marketing team so that they can use their domain knowledge to take the best decision."
   ]
  },
  {
   "cell_type": "markdown",
   "id": "c1f1b3e0-9d4d-40ef-844b-df02e9af915c",
   "metadata": {
    "tags": []
   },
   "source": [
    "# Understanding the Data"
   ]
  },
  {
   "cell_type": "code",
   "execution_count": 22,
   "id": "eacbfc03-0a4c-4caa-a9d3-fade5818ca89",
   "metadata": {},
   "outputs": [],
   "source": [
    "import matplotlib.pyplot as plt\n",
    "import matplotlib.style as style\n",
    "%matplotlib inline\n",
    "import pandas as pd\n",
    "import seaborn as sns"
   ]
  },
  {
   "cell_type": "code",
   "execution_count": 2,
   "id": "2752af0a-044b-478e-8fe0-1b70e8e6cad9",
   "metadata": {},
   "outputs": [],
   "source": [
    "# Reading in the data\n",
    "survey = pd.read_csv('../data/2017-fCC-New-Coders-Survey-Data.csv', low_memory=False)"
   ]
  },
  {
   "cell_type": "code",
   "execution_count": 3,
   "id": "0016ad85-c62c-494d-9d14-efe2817941d3",
   "metadata": {},
   "outputs": [
    {
     "data": {
      "text/plain": [
       "(18175, 136)"
      ]
     },
     "execution_count": 3,
     "metadata": {},
     "output_type": "execute_result"
    }
   ],
   "source": [
    "# Looking for the number of rows and columns in the dataset \n",
    "survey.shape"
   ]
  },
  {
   "cell_type": "code",
   "execution_count": 4,
   "id": "ead0d679-ffc2-4358-9641-8606e61e0537",
   "metadata": {},
   "outputs": [
    {
     "data": {
      "text/html": [
       "<div>\n",
       "<style scoped>\n",
       "    .dataframe tbody tr th:only-of-type {\n",
       "        vertical-align: middle;\n",
       "    }\n",
       "\n",
       "    .dataframe tbody tr th {\n",
       "        vertical-align: top;\n",
       "    }\n",
       "\n",
       "    .dataframe thead th {\n",
       "        text-align: right;\n",
       "    }\n",
       "</style>\n",
       "<table border=\"1\" class=\"dataframe\">\n",
       "  <thead>\n",
       "    <tr style=\"text-align: right;\">\n",
       "      <th></th>\n",
       "      <th>Age</th>\n",
       "      <th>AttendedBootcamp</th>\n",
       "      <th>BootcampFinish</th>\n",
       "      <th>BootcampLoanYesNo</th>\n",
       "      <th>BootcampName</th>\n",
       "      <th>BootcampRecommend</th>\n",
       "      <th>ChildrenNumber</th>\n",
       "      <th>CityPopulation</th>\n",
       "      <th>CodeEventConferences</th>\n",
       "      <th>CodeEventDjangoGirls</th>\n",
       "      <th>...</th>\n",
       "      <th>YouTubeFCC</th>\n",
       "      <th>YouTubeFunFunFunction</th>\n",
       "      <th>YouTubeGoogleDev</th>\n",
       "      <th>YouTubeLearnCode</th>\n",
       "      <th>YouTubeLevelUpTuts</th>\n",
       "      <th>YouTubeMIT</th>\n",
       "      <th>YouTubeMozillaHacks</th>\n",
       "      <th>YouTubeOther</th>\n",
       "      <th>YouTubeSimplilearn</th>\n",
       "      <th>YouTubeTheNewBoston</th>\n",
       "    </tr>\n",
       "  </thead>\n",
       "  <tbody>\n",
       "    <tr>\n",
       "      <th>0</th>\n",
       "      <td>27.0</td>\n",
       "      <td>0.0</td>\n",
       "      <td>NaN</td>\n",
       "      <td>NaN</td>\n",
       "      <td>NaN</td>\n",
       "      <td>NaN</td>\n",
       "      <td>NaN</td>\n",
       "      <td>more than 1 million</td>\n",
       "      <td>NaN</td>\n",
       "      <td>NaN</td>\n",
       "      <td>...</td>\n",
       "      <td>NaN</td>\n",
       "      <td>NaN</td>\n",
       "      <td>NaN</td>\n",
       "      <td>NaN</td>\n",
       "      <td>NaN</td>\n",
       "      <td>NaN</td>\n",
       "      <td>NaN</td>\n",
       "      <td>NaN</td>\n",
       "      <td>NaN</td>\n",
       "      <td>NaN</td>\n",
       "    </tr>\n",
       "    <tr>\n",
       "      <th>1</th>\n",
       "      <td>34.0</td>\n",
       "      <td>0.0</td>\n",
       "      <td>NaN</td>\n",
       "      <td>NaN</td>\n",
       "      <td>NaN</td>\n",
       "      <td>NaN</td>\n",
       "      <td>NaN</td>\n",
       "      <td>less than 100,000</td>\n",
       "      <td>NaN</td>\n",
       "      <td>NaN</td>\n",
       "      <td>...</td>\n",
       "      <td>1.0</td>\n",
       "      <td>NaN</td>\n",
       "      <td>NaN</td>\n",
       "      <td>NaN</td>\n",
       "      <td>NaN</td>\n",
       "      <td>NaN</td>\n",
       "      <td>NaN</td>\n",
       "      <td>NaN</td>\n",
       "      <td>NaN</td>\n",
       "      <td>NaN</td>\n",
       "    </tr>\n",
       "    <tr>\n",
       "      <th>2</th>\n",
       "      <td>21.0</td>\n",
       "      <td>0.0</td>\n",
       "      <td>NaN</td>\n",
       "      <td>NaN</td>\n",
       "      <td>NaN</td>\n",
       "      <td>NaN</td>\n",
       "      <td>NaN</td>\n",
       "      <td>more than 1 million</td>\n",
       "      <td>NaN</td>\n",
       "      <td>NaN</td>\n",
       "      <td>...</td>\n",
       "      <td>NaN</td>\n",
       "      <td>NaN</td>\n",
       "      <td>NaN</td>\n",
       "      <td>1.0</td>\n",
       "      <td>1.0</td>\n",
       "      <td>NaN</td>\n",
       "      <td>NaN</td>\n",
       "      <td>NaN</td>\n",
       "      <td>NaN</td>\n",
       "      <td>NaN</td>\n",
       "    </tr>\n",
       "    <tr>\n",
       "      <th>3</th>\n",
       "      <td>26.0</td>\n",
       "      <td>0.0</td>\n",
       "      <td>NaN</td>\n",
       "      <td>NaN</td>\n",
       "      <td>NaN</td>\n",
       "      <td>NaN</td>\n",
       "      <td>NaN</td>\n",
       "      <td>between 100,000 and 1 million</td>\n",
       "      <td>NaN</td>\n",
       "      <td>NaN</td>\n",
       "      <td>...</td>\n",
       "      <td>1.0</td>\n",
       "      <td>1.0</td>\n",
       "      <td>NaN</td>\n",
       "      <td>NaN</td>\n",
       "      <td>1.0</td>\n",
       "      <td>NaN</td>\n",
       "      <td>NaN</td>\n",
       "      <td>NaN</td>\n",
       "      <td>NaN</td>\n",
       "      <td>NaN</td>\n",
       "    </tr>\n",
       "    <tr>\n",
       "      <th>4</th>\n",
       "      <td>20.0</td>\n",
       "      <td>0.0</td>\n",
       "      <td>NaN</td>\n",
       "      <td>NaN</td>\n",
       "      <td>NaN</td>\n",
       "      <td>NaN</td>\n",
       "      <td>NaN</td>\n",
       "      <td>between 100,000 and 1 million</td>\n",
       "      <td>NaN</td>\n",
       "      <td>NaN</td>\n",
       "      <td>...</td>\n",
       "      <td>NaN</td>\n",
       "      <td>NaN</td>\n",
       "      <td>NaN</td>\n",
       "      <td>NaN</td>\n",
       "      <td>NaN</td>\n",
       "      <td>NaN</td>\n",
       "      <td>NaN</td>\n",
       "      <td>NaN</td>\n",
       "      <td>NaN</td>\n",
       "      <td>NaN</td>\n",
       "    </tr>\n",
       "  </tbody>\n",
       "</table>\n",
       "<p>5 rows × 136 columns</p>\n",
       "</div>"
      ],
      "text/plain": [
       "    Age  AttendedBootcamp  BootcampFinish  BootcampLoanYesNo BootcampName  \\\n",
       "0  27.0               0.0             NaN                NaN          NaN   \n",
       "1  34.0               0.0             NaN                NaN          NaN   \n",
       "2  21.0               0.0             NaN                NaN          NaN   \n",
       "3  26.0               0.0             NaN                NaN          NaN   \n",
       "4  20.0               0.0             NaN                NaN          NaN   \n",
       "\n",
       "   BootcampRecommend  ChildrenNumber                 CityPopulation  \\\n",
       "0                NaN             NaN            more than 1 million   \n",
       "1                NaN             NaN              less than 100,000   \n",
       "2                NaN             NaN            more than 1 million   \n",
       "3                NaN             NaN  between 100,000 and 1 million   \n",
       "4                NaN             NaN  between 100,000 and 1 million   \n",
       "\n",
       "   CodeEventConferences  CodeEventDjangoGirls  ...  YouTubeFCC  \\\n",
       "0                   NaN                   NaN  ...         NaN   \n",
       "1                   NaN                   NaN  ...         1.0   \n",
       "2                   NaN                   NaN  ...         NaN   \n",
       "3                   NaN                   NaN  ...         1.0   \n",
       "4                   NaN                   NaN  ...         NaN   \n",
       "\n",
       "   YouTubeFunFunFunction  YouTubeGoogleDev  YouTubeLearnCode  \\\n",
       "0                    NaN               NaN               NaN   \n",
       "1                    NaN               NaN               NaN   \n",
       "2                    NaN               NaN               1.0   \n",
       "3                    1.0               NaN               NaN   \n",
       "4                    NaN               NaN               NaN   \n",
       "\n",
       "   YouTubeLevelUpTuts  YouTubeMIT  YouTubeMozillaHacks YouTubeOther  \\\n",
       "0                 NaN         NaN                  NaN          NaN   \n",
       "1                 NaN         NaN                  NaN          NaN   \n",
       "2                 1.0         NaN                  NaN          NaN   \n",
       "3                 1.0         NaN                  NaN          NaN   \n",
       "4                 NaN         NaN                  NaN          NaN   \n",
       "\n",
       "   YouTubeSimplilearn  YouTubeTheNewBoston  \n",
       "0                 NaN                  NaN  \n",
       "1                 NaN                  NaN  \n",
       "2                 NaN                  NaN  \n",
       "3                 NaN                  NaN  \n",
       "4                 NaN                  NaN  \n",
       "\n",
       "[5 rows x 136 columns]"
      ]
     },
     "execution_count": 4,
     "metadata": {},
     "output_type": "execute_result"
    }
   ],
   "source": [
    "# Exploring the first five rows of the dataset\n",
    "survey.head(5)"
   ]
  },
  {
   "cell_type": "markdown",
   "id": "87f334d5-3464-4b52-8ecf-94eb4e8a0e77",
   "metadata": {},
   "source": [
    "## Checking for Sample Representativity"
   ]
  },
  {
   "cell_type": "code",
   "execution_count": 5,
   "id": "65a0f5c9-9052-4d66-9ad4-7f5f8476ce73",
   "metadata": {},
   "outputs": [
    {
     "data": {
      "text/plain": [
       "['Age',\n",
       " 'AttendedBootcamp',\n",
       " 'BootcampFinish',\n",
       " 'BootcampLoanYesNo',\n",
       " 'BootcampName',\n",
       " 'BootcampRecommend',\n",
       " 'ChildrenNumber',\n",
       " 'CityPopulation',\n",
       " 'CodeEventConferences',\n",
       " 'CodeEventDjangoGirls',\n",
       " 'CodeEventFCC',\n",
       " 'CodeEventGameJam',\n",
       " 'CodeEventGirlDev',\n",
       " 'CodeEventHackathons',\n",
       " 'CodeEventMeetup',\n",
       " 'CodeEventNodeSchool',\n",
       " 'CodeEventNone',\n",
       " 'CodeEventOther',\n",
       " 'CodeEventRailsBridge',\n",
       " 'CodeEventRailsGirls',\n",
       " 'CodeEventStartUpWknd',\n",
       " 'CodeEventWkdBootcamps',\n",
       " 'CodeEventWomenCode',\n",
       " 'CodeEventWorkshops',\n",
       " 'CommuteTime',\n",
       " 'CountryCitizen',\n",
       " 'CountryLive',\n",
       " 'EmploymentField',\n",
       " 'EmploymentFieldOther',\n",
       " 'EmploymentStatus',\n",
       " 'EmploymentStatusOther',\n",
       " 'ExpectedEarning',\n",
       " 'FinanciallySupporting',\n",
       " 'FirstDevJob',\n",
       " 'Gender',\n",
       " 'GenderOther',\n",
       " 'HasChildren',\n",
       " 'HasDebt',\n",
       " 'HasFinancialDependents',\n",
       " 'HasHighSpdInternet',\n",
       " 'HasHomeMortgage',\n",
       " 'HasServedInMilitary',\n",
       " 'HasStudentDebt',\n",
       " 'HomeMortgageOwe',\n",
       " 'HoursLearning',\n",
       " 'ID.x',\n",
       " 'ID.y',\n",
       " 'Income',\n",
       " 'IsEthnicMinority',\n",
       " 'IsReceiveDisabilitiesBenefits',\n",
       " 'IsSoftwareDev',\n",
       " 'IsUnderEmployed',\n",
       " 'JobApplyWhen',\n",
       " 'JobInterestBackEnd',\n",
       " 'JobInterestDataEngr',\n",
       " 'JobInterestDataSci',\n",
       " 'JobInterestDevOps',\n",
       " 'JobInterestFrontEnd',\n",
       " 'JobInterestFullStack',\n",
       " 'JobInterestGameDev',\n",
       " 'JobInterestInfoSec',\n",
       " 'JobInterestMobile',\n",
       " 'JobInterestOther',\n",
       " 'JobInterestProjMngr',\n",
       " 'JobInterestQAEngr',\n",
       " 'JobInterestUX',\n",
       " 'JobPref',\n",
       " 'JobRelocateYesNo',\n",
       " 'JobRoleInterest',\n",
       " 'JobWherePref',\n",
       " 'LanguageAtHome',\n",
       " 'MaritalStatus',\n",
       " 'MoneyForLearning',\n",
       " 'MonthsProgramming',\n",
       " 'NetworkID',\n",
       " 'Part1EndTime',\n",
       " 'Part1StartTime',\n",
       " 'Part2EndTime',\n",
       " 'Part2StartTime',\n",
       " 'PodcastChangeLog',\n",
       " 'PodcastCodeNewbie',\n",
       " 'PodcastCodePen',\n",
       " 'PodcastDevTea',\n",
       " 'PodcastDotNET',\n",
       " 'PodcastGiantRobots',\n",
       " 'PodcastJSAir',\n",
       " 'PodcastJSJabber',\n",
       " 'PodcastNone',\n",
       " 'PodcastOther',\n",
       " 'PodcastProgThrowdown',\n",
       " 'PodcastRubyRogues',\n",
       " 'PodcastSEDaily',\n",
       " 'PodcastSERadio',\n",
       " 'PodcastShopTalk',\n",
       " 'PodcastTalkPython',\n",
       " 'PodcastTheWebAhead',\n",
       " 'ResourceCodecademy',\n",
       " 'ResourceCodeWars',\n",
       " 'ResourceCoursera',\n",
       " 'ResourceCSS',\n",
       " 'ResourceEdX',\n",
       " 'ResourceEgghead',\n",
       " 'ResourceFCC',\n",
       " 'ResourceHackerRank',\n",
       " 'ResourceKA',\n",
       " 'ResourceLynda',\n",
       " 'ResourceMDN',\n",
       " 'ResourceOdinProj',\n",
       " 'ResourceOther',\n",
       " 'ResourcePluralSight',\n",
       " 'ResourceSkillcrush',\n",
       " 'ResourceSO',\n",
       " 'ResourceTreehouse',\n",
       " 'ResourceUdacity',\n",
       " 'ResourceUdemy',\n",
       " 'ResourceW3S',\n",
       " 'SchoolDegree',\n",
       " 'SchoolMajor',\n",
       " 'StudentDebtOwe',\n",
       " 'YouTubeCodeCourse',\n",
       " 'YouTubeCodingTrain',\n",
       " 'YouTubeCodingTut360',\n",
       " 'YouTubeComputerphile',\n",
       " 'YouTubeDerekBanas',\n",
       " 'YouTubeDevTips',\n",
       " 'YouTubeEngineeredTruth',\n",
       " 'YouTubeFCC',\n",
       " 'YouTubeFunFunFunction',\n",
       " 'YouTubeGoogleDev',\n",
       " 'YouTubeLearnCode',\n",
       " 'YouTubeLevelUpTuts',\n",
       " 'YouTubeMIT',\n",
       " 'YouTubeMozillaHacks',\n",
       " 'YouTubeOther',\n",
       " 'YouTubeSimplilearn',\n",
       " 'YouTubeTheNewBoston']"
      ]
     },
     "execution_count": 5,
     "metadata": {},
     "output_type": "execute_result"
    }
   ],
   "source": [
    "# Finding relevant columns for our analysis \n",
    "survey.columns.tolist()"
   ]
  },
  {
   "cell_type": "markdown",
   "id": "0c1b20d9-3af5-42c8-8592-cf3c0c4e08a0",
   "metadata": {},
   "source": [
    "We as a company sell multiple different courses: from web and mobile development to data science and games. For the purpose of our analysis, we're aiming at answering questions about a population of new coders who are interested in the subjects that we teach. We'd like to know things like where the coders are located, which are the locations with the greatest number of coders, and how much money are coders willing to spend on their learnings. Here are the titles of the relevant columns:\n",
    "\n",
    "- Age\n",
    "- Country of Citizenship\n",
    "- Country of Residence\n",
    "- Field of Employment\n",
    "- Employment Status\n",
    "- Hours of Learning\n",
    "- Income\n",
    "- Job Preference \n",
    "- Language Spoken at Home\n",
    "- Money for Learning\n",
    "- Months of Programming Experience\n",
    "\n",
    "Before starting with our analysis, let's check if our sample is representative for our population of interest. To do that, we'll explore the `JobRoleInterest` column of our dataset. In that way, we'll know what the new coders are most interested in. "
   ]
  },
  {
   "cell_type": "code",
   "execution_count": 6,
   "id": "d53515ab-90d5-4eb3-8c2d-bb6d46c9b7bf",
   "metadata": {
    "tags": []
   },
   "outputs": [
    {
     "data": {
      "text/plain": [
       "Full-Stack Web Developer                                                                                                                                                                                                                                                                    11.770595\n",
       "  Front-End Web Developer                                                                                                                                                                                                                                                                    6.435927\n",
       "  Data Scientist                                                                                                                                                                                                                                                                             2.173913\n",
       "Back-End Web Developer                                                                                                                                                                                                                                                                       2.030892\n",
       "  Mobile Developer                                                                                                                                                                                                                                                                           1.673341\n",
       "                                                                                                                                                                                                                                                                                              ...    \n",
       "  Front-End Web Developer,   DevOps / SysAdmin,   Mobile Developer, Full-Stack Web Developer                                                                                                                                                                                                 0.014302\n",
       "Back-End Web Developer,   Front-End Web Developer, Data Engineer, Full-Stack Web Developer,   Mobile Developer                                                                                                                                                                               0.014302\n",
       "Back-End Web Developer,   User Experience Designer,   Mobile Developer, Game Developer,   Front-End Web Developer, Full-Stack Web Developer                                                                                                                                                  0.014302\n",
       "  Front-End Web Developer,   Mobile Developer, Back-End Web Developer, Full-Stack Web Developer, Data Engineer                                                                                                                                                                               0.014302\n",
       "  DevOps / SysAdmin,   Mobile Developer,   Product Manager, Game Developer,   Front-End Web Developer, Data Engineer,   Quality Assurance Engineer,   User Experience Designer, Back-End Web Developer,   Data Scientist, Full-Stack Web Developer, Information Security, IT specialist      0.014302\n",
       "Name: JobRoleInterest, Length: 3213, dtype: float64"
      ]
     },
     "execution_count": 6,
     "metadata": {},
     "output_type": "execute_result"
    }
   ],
   "source": [
    "# Generating a frequency distribution table\n",
    "survey['JobRoleInterest'].value_counts(normalize=True)*100"
   ]
  },
  {
   "cell_type": "markdown",
   "id": "3e43c0a5-3e0e-4fc9-8f78-0a45bb4e4335",
   "metadata": {},
   "source": [
    "As shown above, respondents chose more than one option to the question, which means that they are interested in more than one subject. However, this sample is still representative. In fact, many respondents are interested in many relevant jobs to our purpose, such as web and mobile development. \n",
    "\n",
    "Let's discover the percentages of some individual roles. This will give us a better view of how relevant the sample is."
   ]
  },
  {
   "cell_type": "code",
   "execution_count": 7,
   "id": "6c8031ba-4440-4bea-8f3f-d044d88ddd56",
   "metadata": {},
   "outputs": [
    {
     "data": {
      "text/plain": [
       "Full-Stack Web Developer        24.427918\n",
       "  Front-End Web Developer       17.820366\n",
       "Back-End Web Developer          11.084096\n",
       "  Mobile Developer               8.152174\n",
       "  Data Scientist                 7.479977\n",
       "Game Developer                   6.664760\n",
       "  User Experience Designer       5.592105\n",
       "Information Security             4.862700\n",
       "Data Engineer                    4.347826\n",
       "  DevOps / SysAdmin              3.318078\n",
       "  Product Manager                3.060641\n",
       "  Quality Assurance Engineer     1.558924\n",
       "Software Engineer                0.071510\n",
       "Software Developer               0.057208\n",
       "undecided                        0.028604\n",
       "Not sure                         0.028604\n",
       "Not sure yet                     0.028604\n",
       "Artificial Intelligence          0.028604\n",
       "Unsure                           0.028604\n",
       "Systems Programmer               0.014302\n",
       "Name: JobRoleInterest, dtype: float64"
      ]
     },
     "execution_count": 7,
     "metadata": {},
     "output_type": "execute_result"
    }
   ],
   "source": [
    "# Dropping all null values \n",
    "job_interest = survey['JobRoleInterest'].dropna()\n",
    "\n",
    "# Selecting only the first job of interest for respondents with multiple interests \n",
    "job_interest = job_interest.str.split(\",\").str[0]\n",
    "\n",
    "# Displaying the first 20 respondents results in percentage\n",
    "job_interest_freq = job_interest.value_counts(normalize=True).head(20)*100\n",
    "job_interest_freq"
   ]
  },
  {
   "cell_type": "code",
   "execution_count": 8,
   "id": "199f67e8-4eaf-409f-8abe-38ea22724ebd",
   "metadata": {},
   "outputs": [
    {
     "data": {
      "image/png": "[encoded data removed]",
      "text/plain": [
       "<Figure size 720x432 with 1 Axes>"
      ]
     },
     "metadata": {},
     "output_type": "display_data"
    }
   ],
   "source": [
    "# Plotting our results\n",
    "style.use('fivethirtyeight')\n",
    "job_interest_freq.head().plot.barh(width=0.5, figsize=(10, 6))\n",
    "plt.title('Top 5 Job Role Interests')\n",
    "plt.show()"
   ]
  },
  {
   "cell_type": "markdown",
   "id": "064c2748-a37a-4cf1-92ec-dab396376730",
   "metadata": {},
   "source": [
    "As shown by the graph above, the highest percentage of respondents chose Full-Stack Web Developer, followed by Front-End Web Developer. Other roles included Back-End Web Developer, Mobile Developer, and Data Scientists. This confirms the hypothesis that our sample is representative of the population we want to explore. \n",
    "\n",
    "It is worth mentioning though that the frequency table we coded above is just a point of reference. In fact, we only looked at the first job of interest for respondents with many interests, excluding all the other options selected by other the respondents, which makes the frequency table slightly inaccurate. However, the table helped us find out that the sample has the right categories of people for our purpose, so now we can start our analysis."
   ]
  },
  {
   "cell_type": "markdown",
   "id": "94c6a4d9-f02c-42c5-a918-25801414b92b",
   "metadata": {},
   "source": [
    "# New Coders - Locations and Densities"
   ]
  },
  {
   "cell_type": "markdown",
   "id": "2648fed9-c430-4582-b45f-c5798ef4a541",
   "metadata": {},
   "source": [
    "We want to know where these new coders are located and what are the densities (how many coders there are) for each locations. This information is stored into the `CountryLive` column of our dataset, which describes what country each participant lives in. Since the data set provides information at a country level, we can think of each country as an individual market. This means that we can frame our goal as finding the two best countries to advertise in. \n",
    "\n",
    "A good indicator for our search is the number of potential customers: the more potential customers in a country, the better. Let's go ahead and analyse our data."
   ]
  },
  {
   "cell_type": "code",
   "execution_count": 9,
   "id": "a42986a9-c1aa-4dbf-8bae-89a8d851ae41",
   "metadata": {},
   "outputs": [
    {
     "data": {
      "text/html": [
       "<div>\n",
       "<style scoped>\n",
       "    .dataframe tbody tr th:only-of-type {\n",
       "        vertical-align: middle;\n",
       "    }\n",
       "\n",
       "    .dataframe tbody tr th {\n",
       "        vertical-align: top;\n",
       "    }\n",
       "\n",
       "    .dataframe thead th {\n",
       "        text-align: right;\n",
       "    }\n",
       "</style>\n",
       "<table border=\"1\" class=\"dataframe\">\n",
       "  <thead>\n",
       "    <tr style=\"text-align: right;\">\n",
       "      <th></th>\n",
       "      <th>Absolute Frequency</th>\n",
       "      <th>Percentage</th>\n",
       "    </tr>\n",
       "  </thead>\n",
       "  <tbody>\n",
       "    <tr>\n",
       "      <th>United States of America</th>\n",
       "      <td>3125</td>\n",
       "      <td>45.70</td>\n",
       "    </tr>\n",
       "    <tr>\n",
       "      <th>India</th>\n",
       "      <td>528</td>\n",
       "      <td>7.72</td>\n",
       "    </tr>\n",
       "    <tr>\n",
       "      <th>United Kingdom</th>\n",
       "      <td>315</td>\n",
       "      <td>4.61</td>\n",
       "    </tr>\n",
       "    <tr>\n",
       "      <th>Canada</th>\n",
       "      <td>260</td>\n",
       "      <td>3.80</td>\n",
       "    </tr>\n",
       "    <tr>\n",
       "      <th>Poland</th>\n",
       "      <td>131</td>\n",
       "      <td>1.92</td>\n",
       "    </tr>\n",
       "    <tr>\n",
       "      <th>...</th>\n",
       "      <td>...</td>\n",
       "      <td>...</td>\n",
       "    </tr>\n",
       "    <tr>\n",
       "      <th>Liberia</th>\n",
       "      <td>1</td>\n",
       "      <td>0.01</td>\n",
       "    </tr>\n",
       "    <tr>\n",
       "      <th>Papua New Guinea</th>\n",
       "      <td>1</td>\n",
       "      <td>0.01</td>\n",
       "    </tr>\n",
       "    <tr>\n",
       "      <th>Guadeloupe</th>\n",
       "      <td>1</td>\n",
       "      <td>0.01</td>\n",
       "    </tr>\n",
       "    <tr>\n",
       "      <th>Gibraltar</th>\n",
       "      <td>1</td>\n",
       "      <td>0.01</td>\n",
       "    </tr>\n",
       "    <tr>\n",
       "      <th>Gambia</th>\n",
       "      <td>1</td>\n",
       "      <td>0.01</td>\n",
       "    </tr>\n",
       "  </tbody>\n",
       "</table>\n",
       "<p>137 rows × 2 columns</p>\n",
       "</div>"
      ],
      "text/plain": [
       "                          Absolute Frequency  Percentage\n",
       "United States of America                3125       45.70\n",
       "India                                    528        7.72\n",
       "United Kingdom                           315        4.61\n",
       "Canada                                   260        3.80\n",
       "Poland                                   131        1.92\n",
       "...                                      ...         ...\n",
       "Liberia                                    1        0.01\n",
       "Papua New Guinea                           1        0.01\n",
       "Guadeloupe                                 1        0.01\n",
       "Gibraltar                                  1        0.01\n",
       "Gambia                                     1        0.01\n",
       "\n",
       "[137 rows x 2 columns]"
      ]
     },
     "execution_count": 9,
     "metadata": {},
     "output_type": "execute_result"
    }
   ],
   "source": [
    "# Ensuring sample is representative by dropping all rows where participants didn't answer \n",
    "filt = survey['JobRoleInterest'].notnull()\n",
    "\n",
    "# Generating an absolute and relative frequency tables for the CountryLive column\n",
    "abs_freq = survey[filt]['CountryLive'].value_counts()\n",
    "percentage = survey[filt]['CountryLive'].value_counts(normalize=True).round(4)*100\n",
    "country_freq = pd.DataFrame({'Absolute Frequency': abs_freq,\n",
    "                           'Percentage': percentage})\n",
    "country_freq"
   ]
  },
  {
   "cell_type": "markdown",
   "id": "f782bb94-9ba8-41ba-9f3b-fc73c031c4b4",
   "metadata": {},
   "source": [
    "As shown above, the two markets with the highest number of coders are the US and India. It would make sense at this point to choose to advertise our product in these two countries. However, we also need to explore the willingness of these new coders to spend money for their learning. Advertising within markets where most people are only willing to learn for free is extremely unlikely to be profitable for our company."
   ]
  },
  {
   "cell_type": "markdown",
   "id": "388aa802-c9b1-4086-b73a-489c6abe55f8",
   "metadata": {},
   "source": [
    "# Spending Money for Learning"
   ]
  },
  {
   "cell_type": "markdown",
   "id": "6f6fb07e-d113-43fb-8006-3fd6c8969b24",
   "metadata": {},
   "source": [
    "Since our company sells subscriptions at a monthly price, we're interested in finding out how much money each student spends per month. We'll also choose only the US, India, the UK, and Canada for our analysis. This is because not only do they have the highest absolute frequencies in our sample, but also because they have English as the official language, and our online courses are in English."
   ]
  },
  {
   "cell_type": "code",
   "execution_count": 10,
   "id": "4557fc19-6b6c-465d-a517-23de8fbc1a14",
   "metadata": {},
   "outputs": [
    {
     "data": {
      "text/plain": [
       "1.0      1697\n",
       "12.0     1497\n",
       "2.0      1338\n",
       "3.0      1333\n",
       "6.0      1330\n",
       "         ... \n",
       "720.0       1\n",
       "130.0       1\n",
       "244.0       1\n",
       "113.0       1\n",
       "89.0        1\n",
       "Name: MonthsProgramming, Length: 154, dtype: int64"
      ]
     },
     "execution_count": 10,
     "metadata": {},
     "output_type": "execute_result"
    }
   ],
   "source": [
    "# Discovering the amount of money spent by coders from the moment they started coding until they completed the survey\n",
    "survey['MonthsProgramming'].value_counts()"
   ]
  },
  {
   "cell_type": "markdown",
   "id": "0d090d12-c209-46b1-b67c-d2c280a90d1f",
   "metadata": {},
   "source": [
    "Some of the values from the above column are 0 because some students answered that they had been learning to code for 0 months. It might be that they had just started when they completed the survey. Let's exclude these values from our analysis to avoid dividing by 0. "
   ]
  },
  {
   "cell_type": "code",
   "execution_count": 12,
   "id": "026a4331-ede4-42fe-ae92-4fd1608b6c01",
   "metadata": {},
   "outputs": [
    {
     "data": {
      "text/plain": [
       "False    16180\n",
       "True      1995\n",
       "Name: Money_Per_Month, dtype: int64"
      ]
     },
     "execution_count": 12,
     "metadata": {},
     "output_type": "execute_result"
    }
   ],
   "source": [
    "# Replacing 0 values with 1\n",
    "survey['MonthsProgramming'].replace(0, 1, inplace = True)\n",
    "\n",
    "# Creating a new column to find the amount of money a student has spent per month \n",
    "survey['Money_Per_Month'] = survey['MoneyForLearning']/survey['MonthsProgramming']\n",
    "\n",
    "# Counting null values in the new column\n",
    "survey['Money_Per_Month'].isnull().value_counts()"
   ]
  },
  {
   "cell_type": "code",
   "execution_count": 15,
   "id": "55b90c92-2444-43ba-9011-829a53afcd29",
   "metadata": {},
   "outputs": [],
   "source": [
    "# Removing null values\n",
    "survey.dropna(subset=['CountryLive', 'Money_Per_Month', 'JobRoleInterest'], inplace=True)\n",
    "\n",
    "# Extracting the mean monthly amount paid in each country\n",
    "country_grp = survey.groupby('CountryLive')\n",
    "country_mean_amount = pd.DataFrame({'mean_amount':country_grp['Money_Per_Month'].mean()}).reset_index()\n",
    "\n",
    "# Getting our country of interest\n",
    "interest_countries = country_mean_amount[(country_mean_amount['CountryLive'] == 'United States of America')\n",
    "                                         | (country_mean_amount['CountryLive'] == 'India')\n",
    "                                         | (country_mean_amount['CountryLive'] == 'United Kingdom')\n",
    "                                         | (country_mean_amount['CountryLive'] == 'Canada')]"
   ]
  },
  {
   "cell_type": "code",
   "execution_count": 19,
   "id": "183f582b-3f70-4515-bd77-15947b0870cd",
   "metadata": {},
   "outputs": [
    {
     "data": {
      "text/html": [
       "<div>\n",
       "<style scoped>\n",
       "    .dataframe tbody tr th:only-of-type {\n",
       "        vertical-align: middle;\n",
       "    }\n",
       "\n",
       "    .dataframe tbody tr th {\n",
       "        vertical-align: top;\n",
       "    }\n",
       "\n",
       "    .dataframe thead th {\n",
       "        text-align: right;\n",
       "    }\n",
       "</style>\n",
       "<table border=\"1\" class=\"dataframe\">\n",
       "  <thead>\n",
       "    <tr style=\"text-align: right;\">\n",
       "      <th></th>\n",
       "      <th>CountryLive</th>\n",
       "      <th>mean_amount</th>\n",
       "    </tr>\n",
       "  </thead>\n",
       "  <tbody>\n",
       "    <tr>\n",
       "      <th>122</th>\n",
       "      <td>United States of America</td>\n",
       "      <td>228.0</td>\n",
       "    </tr>\n",
       "    <tr>\n",
       "      <th>52</th>\n",
       "      <td>India</td>\n",
       "      <td>135.1</td>\n",
       "    </tr>\n",
       "    <tr>\n",
       "      <th>19</th>\n",
       "      <td>Canada</td>\n",
       "      <td>113.5</td>\n",
       "    </tr>\n",
       "    <tr>\n",
       "      <th>121</th>\n",
       "      <td>United Kingdom</td>\n",
       "      <td>45.5</td>\n",
       "    </tr>\n",
       "  </tbody>\n",
       "</table>\n",
       "</div>"
      ],
      "text/plain": [
       "                  CountryLive  mean_amount\n",
       "122  United States of America        228.0\n",
       "52                      India        135.1\n",
       "19                     Canada        113.5\n",
       "121            United Kingdom         45.5"
      ]
     },
     "execution_count": 19,
     "metadata": {},
     "output_type": "execute_result"
    }
   ],
   "source": [
    "# Sorting mean values of each country in descending order\n",
    "interest_countries.sort_values('mean_amount', ascending=False).round(1) # rounding the means to one decimal point "
   ]
  },
  {
   "cell_type": "markdown",
   "id": "7a7ac87b-b655-4705-a79b-1f75d2aa8b1f",
   "metadata": {},
   "source": [
    "As we can see, the mean of the UK and Canada are surprisingly lower comparing to the mean of India. If we considered some socio-economical metrics such as GDP per capita, we'd intuitively expect people from the UK and Canada to spend more on learning than people in India.\n",
    "\n",
    "These findings might be because we might not have enough representative data for the UK, Canada, and India. Or we might have some outliers (maybe coming from wrong survey answers) making the mean too big for India, or too low for the UK and Canada. It might also be that the results are correct."
   ]
  },
  {
   "cell_type": "markdown",
   "id": "13195547-1e29-44bc-9ac3-8e95b78be67d",
   "metadata": {},
   "source": [
    "## Dealing with Extreme Outliers"
   ]
  },
  {
   "cell_type": "markdown",
   "id": "ed8898ab-5ac8-4d38-997f-0aeace029f46",
   "metadata": {},
   "source": [
    "We'll now generate a box plot to check if there are any significant outliers skewing the data."
   ]
  },
  {
   "cell_type": "code",
   "execution_count": 24,
   "id": "dda024e2-cf59-49d1-a8d8-d7f91a77a09b",
   "metadata": {},
   "outputs": [
    {
     "data": {
      "image/png": "[encoded data removed]",
      "text/plain": [
       "<Figure size 432x288 with 1 Axes>"
      ]
     },
     "metadata": {
      "needs_background": "light"
     },
     "output_type": "display_data"
    }
   ],
   "source": [
    "# Returning data on only countries of interest\n",
    "filt = survey['CountryLive'].str.contains('United States of America|India|United Kingdom|Canada')\n",
    "required = survey[filt]\n",
    "\n",
    "# Creating a box plot\n",
    "sns.boxplot(data=required, x='CountryLive', y='Money_Per_Month')\n",
    "plt.title('Money Spent Monthly Grouped by Country', \n",
    "          fontsize = 14)\n",
    "plt.ylabel('Money per month in US dollars')\n",
    "plt.ylim(0, 90000)\n",
    "plt.xlabel('Country')\n",
    "plt.xticks(range(4), ['US', 'UK', 'India', 'Canada']) # avoiding tick labels overlaps\n",
    "plt.show()"
   ]
  },
  {
   "cell_type": "markdown",
   "id": "3eb3879c-5a22-4aa5-b1b6-3f204a4cfec4",
   "metadata": {},
   "source": [
    "As shown in the graph above, there are two extreme outliers in the US data, and a mild one in India. Let's now eliminate the extreme outliers so that we can recompute the mean values."
   ]
  },
  {
   "cell_type": "code",
   "execution_count": 25,
   "id": "bc18c830-e2e5-4631-9186-c69ad5b86df6",
   "metadata": {},
   "outputs": [],
   "source": [
    "# Eliminating extreme outliers from the dataset \n",
    "survey = survey[survey['Money_Per_Month'] < 20000]"
   ]
  },
  {
   "cell_type": "code",
   "execution_count": 29,
   "id": "e76692c3-2d22-41cd-8a1a-c6369e0d4b9d",
   "metadata": {},
   "outputs": [
    {
     "data": {
      "text/html": [
       "<div>\n",
       "<style scoped>\n",
       "    .dataframe tbody tr th:only-of-type {\n",
       "        vertical-align: middle;\n",
       "    }\n",
       "\n",
       "    .dataframe tbody tr th {\n",
       "        vertical-align: top;\n",
       "    }\n",
       "\n",
       "    .dataframe thead th {\n",
       "        text-align: right;\n",
       "    }\n",
       "</style>\n",
       "<table border=\"1\" class=\"dataframe\">\n",
       "  <thead>\n",
       "    <tr style=\"text-align: right;\">\n",
       "      <th></th>\n",
       "      <th>CountryLive</th>\n",
       "      <th>mean_amount</th>\n",
       "    </tr>\n",
       "  </thead>\n",
       "  <tbody>\n",
       "    <tr>\n",
       "      <th>122</th>\n",
       "      <td>United States of America</td>\n",
       "      <td>183.8</td>\n",
       "    </tr>\n",
       "    <tr>\n",
       "      <th>52</th>\n",
       "      <td>India</td>\n",
       "      <td>135.1</td>\n",
       "    </tr>\n",
       "    <tr>\n",
       "      <th>19</th>\n",
       "      <td>Canada</td>\n",
       "      <td>113.5</td>\n",
       "    </tr>\n",
       "    <tr>\n",
       "      <th>121</th>\n",
       "      <td>United Kingdom</td>\n",
       "      <td>45.5</td>\n",
       "    </tr>\n",
       "  </tbody>\n",
       "</table>\n",
       "</div>"
      ],
      "text/plain": [
       "                  CountryLive  mean_amount\n",
       "122  United States of America        183.8\n",
       "52                      India        135.1\n",
       "19                     Canada        113.5\n",
       "121            United Kingdom         45.5"
      ]
     },
     "execution_count": 29,
     "metadata": {},
     "output_type": "execute_result"
    }
   ],
   "source": [
    "# Reextracting the mean monthly amount paid in each country\n",
    "country_grp = survey.groupby('CountryLive')\n",
    "country_mean_amount = pd.DataFrame({'mean_amount':country_grp['Money_Per_Month'].mean()}).reset_index()\n",
    "\n",
    "# Retrieving our country of interest\n",
    "interest_countries = country_mean_amount[(country_mean_amount['CountryLive'] == 'United States of America')\n",
    "                                         | (country_mean_amount['CountryLive'] == 'India')\n",
    "                                         | (country_mean_amount['CountryLive'] == 'United Kingdom')\n",
    "                                         | (country_mean_amount['CountryLive'] == 'Canada')]\n",
    "\n",
    "# Resorting mean values of each country in descending order\n",
    "interest_countries.sort_values('mean_amount', ascending=False).round(1)"
   ]
  },
  {
   "cell_type": "markdown",
   "id": "0e19aa7c-5709-4d03-b3c7-21da2e5b4d6d",
   "metadata": {},
   "source": [
    "Now we can clearly see that, after removing the outliers, the average amount spent by the US has dropped. Let's now generate another boxplot to check if there are more outliers in the data."
   ]
  },
  {
   "cell_type": "markdown",
   "id": "a1b4e875-3565-4aac-886f-cf61e15f4054",
   "metadata": {},
   "source": [
    "## Replotting the Boxplot"
   ]
  },
  {
   "cell_type": "code",
   "execution_count": 31,
   "id": "7202347a-8377-4623-8546-6def0d82aef6",
   "metadata": {},
   "outputs": [
    {
     "data": {
      "image/png": "[encoded data removed]",
      "text/plain": [
       "<Figure size 432x288 with 1 Axes>"
      ]
     },
     "metadata": {
      "needs_background": "light"
     },
     "output_type": "display_data"
    }
   ],
   "source": [
    "filt = survey['CountryLive'].str.contains('United States of America|India|Canada|United Kingdom') # filtering the dataset\n",
    "required = survey[filt]\n",
    "sns.boxplot(data=required, x='CountryLive', y='Money_Per_Month') # setting the x and y values\n",
    "plt.title('Money Spent per Month Grouped by Country\\n(Distributions)', # giving a title to the graph\n",
    "         fontsize = 14) \n",
    "plt.ylabel('Money per month in US dollars')  # setting a label for y values \n",
    "plt.ylim(0,18000) # setting the y-limit to 18000\n",
    "plt.xlabel('Country') # setting a label for x values\n",
    "plt.xticks(range(4), ['US', 'UK', 'India', 'Canada']) # giving each x-axis tick the name of a country \n",
    "plt.show()"
   ]
  },
  {
   "cell_type": "markdown",
   "id": "eaa642e1-c854-4d93-880e-baf48998f823",
   "metadata": {},
   "source": [
    "From our new boxplot, we can state any amount above `$2,000` in India is an outlier. One way to justify such amount is to understand whether students who paid over `$2,000` participated in some sort of bootcamps, which can be quite expensive comparing to standard online learning programmes."
   ]
  },
  {
   "cell_type": "markdown",
   "id": "247eaa31-e1ca-450a-801a-94e3b09e95b8",
   "metadata": {},
   "source": [
    "## Checking Bootcamp Attendance"
   ]
  },
  {
   "cell_type": "markdown",
   "id": "6488ec09-1a9d-49ba-8699-f60f7d275610",
   "metadata": {},
   "source": [
    "#### Outliers in India"
   ]
  },
  {
   "cell_type": "code",
   "execution_count": 32,
   "id": "98399e9c-86be-4022-8436-f0f38591eb63",
   "metadata": {},
   "outputs": [
    {
     "data": {
      "text/html": [
       "<div>\n",
       "<style scoped>\n",
       "    .dataframe tbody tr th:only-of-type {\n",
       "        vertical-align: middle;\n",
       "    }\n",
       "\n",
       "    .dataframe tbody tr th {\n",
       "        vertical-align: top;\n",
       "    }\n",
       "\n",
       "    .dataframe thead th {\n",
       "        text-align: right;\n",
       "    }\n",
       "</style>\n",
       "<table border=\"1\" class=\"dataframe\">\n",
       "  <thead>\n",
       "    <tr style=\"text-align: right;\">\n",
       "      <th></th>\n",
       "      <th>CountryLive</th>\n",
       "      <th>AttendedBootcamp</th>\n",
       "      <th>BootcampName</th>\n",
       "      <th>MoneyForLearning</th>\n",
       "      <th>MonthsProgramming</th>\n",
       "      <th>Money_Per_Month</th>\n",
       "    </tr>\n",
       "  </thead>\n",
       "  <tbody>\n",
       "    <tr>\n",
       "      <th>1728</th>\n",
       "      <td>India</td>\n",
       "      <td>0.0</td>\n",
       "      <td>NaN</td>\n",
       "      <td>20000.0</td>\n",
       "      <td>4.0</td>\n",
       "      <td>5000.000000</td>\n",
       "    </tr>\n",
       "    <tr>\n",
       "      <th>1755</th>\n",
       "      <td>India</td>\n",
       "      <td>0.0</td>\n",
       "      <td>NaN</td>\n",
       "      <td>50000.0</td>\n",
       "      <td>15.0</td>\n",
       "      <td>3333.333333</td>\n",
       "    </tr>\n",
       "    <tr>\n",
       "      <th>7989</th>\n",
       "      <td>India</td>\n",
       "      <td>0.0</td>\n",
       "      <td>NaN</td>\n",
       "      <td>5000.0</td>\n",
       "      <td>1.0</td>\n",
       "      <td>5000.000000</td>\n",
       "    </tr>\n",
       "    <tr>\n",
       "      <th>8126</th>\n",
       "      <td>India</td>\n",
       "      <td>0.0</td>\n",
       "      <td>NaN</td>\n",
       "      <td>5000.0</td>\n",
       "      <td>1.0</td>\n",
       "      <td>5000.000000</td>\n",
       "    </tr>\n",
       "    <tr>\n",
       "      <th>13398</th>\n",
       "      <td>India</td>\n",
       "      <td>0.0</td>\n",
       "      <td>NaN</td>\n",
       "      <td>20000.0</td>\n",
       "      <td>2.0</td>\n",
       "      <td>10000.000000</td>\n",
       "    </tr>\n",
       "    <tr>\n",
       "      <th>15587</th>\n",
       "      <td>India</td>\n",
       "      <td>0.0</td>\n",
       "      <td>NaN</td>\n",
       "      <td>100000.0</td>\n",
       "      <td>24.0</td>\n",
       "      <td>4166.666667</td>\n",
       "    </tr>\n",
       "  </tbody>\n",
       "</table>\n",
       "</div>"
      ],
      "text/plain": [
       "      CountryLive  AttendedBootcamp BootcampName  MoneyForLearning  \\\n",
       "1728        India               0.0          NaN           20000.0   \n",
       "1755        India               0.0          NaN           50000.0   \n",
       "7989        India               0.0          NaN            5000.0   \n",
       "8126        India               0.0          NaN            5000.0   \n",
       "13398       India               0.0          NaN           20000.0   \n",
       "15587       India               0.0          NaN          100000.0   \n",
       "\n",
       "       MonthsProgramming  Money_Per_Month  \n",
       "1728                 4.0      5000.000000  \n",
       "1755                15.0      3333.333333  \n",
       "7989                 1.0      5000.000000  \n",
       "8126                 1.0      5000.000000  \n",
       "13398                2.0     10000.000000  \n",
       "15587               24.0      4166.666667  "
      ]
     },
     "execution_count": 32,
     "metadata": {},
     "output_type": "execute_result"
    }
   ],
   "source": [
    "# Filtering the data set to get data only India data\n",
    "filt = (required['CountryLive'] == 'India') & (required['Money_Per_Month'] > 2000)\n",
    "india_outlier = required[filt]\n",
    "india_outlier[['CountryLive', 'AttendedBootcamp', 'BootcampName', 'MoneyForLearning', 'MonthsProgramming', 'Money_Per_Month']]"
   ]
  },
  {
   "cell_type": "markdown",
   "id": "d780e4c5-b5d3-4010-88af-16d192c27c5f",
   "metadata": {},
   "source": [
    "Unexpectedly, none of the outliers in India attended Bootcamps. It is also challenging to know whether these participants spent a lot of money on learning or not. The question in the survey is: \"Aside from university tuition, about how much money have you spent on learning to code so far (in US dollars)?\". It is possible that they misinterpreted the question, assuming that university tuition was included. So for caution, it is advisable to exclude these entries from the analysis."
   ]
  },
  {
   "cell_type": "code",
   "execution_count": 33,
   "id": "ffa71b86-a2a6-4d91-8a59-afbcd02c2385",
   "metadata": {},
   "outputs": [],
   "source": [
    "# Dropping india_outliers columns\n",
    "required = required.drop(india_outlier.index)"
   ]
  },
  {
   "cell_type": "markdown",
   "id": "dbffab0a-901e-4571-bf50-def2c4711830",
   "metadata": {},
   "source": [
    "Let's now try to carry out the same analysis for the US' outliers. Those whose monthly spending is more than $6,000."
   ]
  },
  {
   "cell_type": "markdown",
   "id": "2e6a75c2-1a7d-4251-bbc7-160234f53191",
   "metadata": {},
   "source": [
    "#### Outliers in the US"
   ]
  },
  {
   "cell_type": "code",
   "execution_count": 34,
   "id": "2849cef4-084c-4d73-aede-cd4743d5bc6d",
   "metadata": {},
   "outputs": [
    {
     "data": {
      "text/html": [
       "<div>\n",
       "<style scoped>\n",
       "    .dataframe tbody tr th:only-of-type {\n",
       "        vertical-align: middle;\n",
       "    }\n",
       "\n",
       "    .dataframe tbody tr th {\n",
       "        vertical-align: top;\n",
       "    }\n",
       "\n",
       "    .dataframe thead th {\n",
       "        text-align: right;\n",
       "    }\n",
       "</style>\n",
       "<table border=\"1\" class=\"dataframe\">\n",
       "  <thead>\n",
       "    <tr style=\"text-align: right;\">\n",
       "      <th></th>\n",
       "      <th>CountryLive</th>\n",
       "      <th>AttendedBootcamp</th>\n",
       "      <th>BootcampName</th>\n",
       "      <th>MoneyForLearning</th>\n",
       "      <th>MonthsProgramming</th>\n",
       "      <th>Money_Per_Month</th>\n",
       "    </tr>\n",
       "  </thead>\n",
       "  <tbody>\n",
       "    <tr>\n",
       "      <th>718</th>\n",
       "      <td>United States of America</td>\n",
       "      <td>1.0</td>\n",
       "      <td>The Coding Boot Camp at UCLA Extension</td>\n",
       "      <td>8000.0</td>\n",
       "      <td>1.0</td>\n",
       "      <td>8000.000000</td>\n",
       "    </tr>\n",
       "    <tr>\n",
       "      <th>1222</th>\n",
       "      <td>United States of America</td>\n",
       "      <td>1.0</td>\n",
       "      <td>The Iron Yard</td>\n",
       "      <td>13000.0</td>\n",
       "      <td>2.0</td>\n",
       "      <td>6500.000000</td>\n",
       "    </tr>\n",
       "    <tr>\n",
       "      <th>3184</th>\n",
       "      <td>United States of America</td>\n",
       "      <td>1.0</td>\n",
       "      <td>We Can Code IT</td>\n",
       "      <td>9000.0</td>\n",
       "      <td>1.0</td>\n",
       "      <td>9000.000000</td>\n",
       "    </tr>\n",
       "    <tr>\n",
       "      <th>3930</th>\n",
       "      <td>United States of America</td>\n",
       "      <td>0.0</td>\n",
       "      <td>NaN</td>\n",
       "      <td>65000.0</td>\n",
       "      <td>6.0</td>\n",
       "      <td>10833.333333</td>\n",
       "    </tr>\n",
       "    <tr>\n",
       "      <th>6805</th>\n",
       "      <td>United States of America</td>\n",
       "      <td>1.0</td>\n",
       "      <td>Sabio.la</td>\n",
       "      <td>15000.0</td>\n",
       "      <td>1.0</td>\n",
       "      <td>15000.000000</td>\n",
       "    </tr>\n",
       "    <tr>\n",
       "      <th>7198</th>\n",
       "      <td>United States of America</td>\n",
       "      <td>0.0</td>\n",
       "      <td>NaN</td>\n",
       "      <td>70000.0</td>\n",
       "      <td>5.0</td>\n",
       "      <td>14000.000000</td>\n",
       "    </tr>\n",
       "    <tr>\n",
       "      <th>7505</th>\n",
       "      <td>United States of America</td>\n",
       "      <td>1.0</td>\n",
       "      <td>Codeup</td>\n",
       "      <td>20000.0</td>\n",
       "      <td>3.0</td>\n",
       "      <td>6666.666667</td>\n",
       "    </tr>\n",
       "    <tr>\n",
       "      <th>9778</th>\n",
       "      <td>United States of America</td>\n",
       "      <td>1.0</td>\n",
       "      <td>Grand Circus</td>\n",
       "      <td>8000.0</td>\n",
       "      <td>1.0</td>\n",
       "      <td>8000.000000</td>\n",
       "    </tr>\n",
       "    <tr>\n",
       "      <th>16650</th>\n",
       "      <td>United States of America</td>\n",
       "      <td>0.0</td>\n",
       "      <td>NaN</td>\n",
       "      <td>200000.0</td>\n",
       "      <td>12.0</td>\n",
       "      <td>16666.666667</td>\n",
       "    </tr>\n",
       "    <tr>\n",
       "      <th>16997</th>\n",
       "      <td>United States of America</td>\n",
       "      <td>0.0</td>\n",
       "      <td>NaN</td>\n",
       "      <td>12500.0</td>\n",
       "      <td>1.0</td>\n",
       "      <td>12500.000000</td>\n",
       "    </tr>\n",
       "    <tr>\n",
       "      <th>17231</th>\n",
       "      <td>United States of America</td>\n",
       "      <td>0.0</td>\n",
       "      <td>NaN</td>\n",
       "      <td>30000.0</td>\n",
       "      <td>2.0</td>\n",
       "      <td>15000.000000</td>\n",
       "    </tr>\n",
       "  </tbody>\n",
       "</table>\n",
       "</div>"
      ],
      "text/plain": [
       "                    CountryLive  AttendedBootcamp  \\\n",
       "718    United States of America               1.0   \n",
       "1222   United States of America               1.0   \n",
       "3184   United States of America               1.0   \n",
       "3930   United States of America               0.0   \n",
       "6805   United States of America               1.0   \n",
       "7198   United States of America               0.0   \n",
       "7505   United States of America               1.0   \n",
       "9778   United States of America               1.0   \n",
       "16650  United States of America               0.0   \n",
       "16997  United States of America               0.0   \n",
       "17231  United States of America               0.0   \n",
       "\n",
       "                                 BootcampName  MoneyForLearning  \\\n",
       "718    The Coding Boot Camp at UCLA Extension            8000.0   \n",
       "1222                            The Iron Yard           13000.0   \n",
       "3184                           We Can Code IT            9000.0   \n",
       "3930                                      NaN           65000.0   \n",
       "6805                                 Sabio.la           15000.0   \n",
       "7198                                      NaN           70000.0   \n",
       "7505                                   Codeup           20000.0   \n",
       "9778                             Grand Circus            8000.0   \n",
       "16650                                     NaN          200000.0   \n",
       "16997                                     NaN           12500.0   \n",
       "17231                                     NaN           30000.0   \n",
       "\n",
       "       MonthsProgramming  Money_Per_Month  \n",
       "718                  1.0      8000.000000  \n",
       "1222                 2.0      6500.000000  \n",
       "3184                 1.0      9000.000000  \n",
       "3930                 6.0     10833.333333  \n",
       "6805                 1.0     15000.000000  \n",
       "7198                 5.0     14000.000000  \n",
       "7505                 3.0      6666.666667  \n",
       "9778                 1.0      8000.000000  \n",
       "16650               12.0     16666.666667  \n",
       "16997                1.0     12500.000000  \n",
       "17231                2.0     15000.000000  "
      ]
     },
     "execution_count": 34,
     "metadata": {},
     "output_type": "execute_result"
    }
   ],
   "source": [
    "# Filtering the data set to get data only US data\n",
    "filt = (required['CountryLive'] == 'United States of America') & (required['Money_Per_Month'] > 6000)\n",
    "us_outlier = required[filt]\n",
    "us_outlier[['CountryLive', 'AttendedBootcamp', 'BootcampName',\n",
    "               'MoneyForLearning', 'MonthsProgramming', 'Money_Per_Month']]"
   ]
  },
  {
   "cell_type": "markdown",
   "id": "2d2d9208-177c-4fc8-843c-cdb80be16c95",
   "metadata": {},
   "source": [
    "Out of the 11 outliers in the US, 6 of them attended bootcamps. This justifies the large sum of money that the respondents spent on learning. Yet, there is no justification for the remaining 5 outliers. We'll thus remove the rows where outliers did not attend bootcamp.\n",
    "\n",
    "If we explore the `MonthsProgramming` column further, we'll notice that there are 8 outliers who spent less than 3 months on their learnings. This is an interesting finding because these coders might have paid a large amount of money for a bootcamp that lasted for several months. So we can assume that the monthly spending is unrealistic and should be lower, therefore we will remove those eight outliers' rows as well."
   ]
  },
  {
   "cell_type": "code",
   "execution_count": 35,
   "id": "f457e4ca-d9f1-4684-80ae-1a768d22e0f5",
   "metadata": {},
   "outputs": [],
   "source": [
    "# Dropping US outliers\n",
    "required = required.drop(us_outlier.index)"
   ]
  },
  {
   "cell_type": "markdown",
   "id": "88c9ea7d-a730-4099-8a2e-3add08365468",
   "metadata": {},
   "source": [
    "#### Outliers in Canada"
   ]
  },
  {
   "cell_type": "code",
   "execution_count": 36,
   "id": "e4151e2a-dfd5-4933-9660-939cd70f0d9f",
   "metadata": {},
   "outputs": [
    {
     "data": {
      "text/html": [
       "<div>\n",
       "<style scoped>\n",
       "    .dataframe tbody tr th:only-of-type {\n",
       "        vertical-align: middle;\n",
       "    }\n",
       "\n",
       "    .dataframe tbody tr th {\n",
       "        vertical-align: top;\n",
       "    }\n",
       "\n",
       "    .dataframe thead th {\n",
       "        text-align: right;\n",
       "    }\n",
       "</style>\n",
       "<table border=\"1\" class=\"dataframe\">\n",
       "  <thead>\n",
       "    <tr style=\"text-align: right;\">\n",
       "      <th></th>\n",
       "      <th>CountryLive</th>\n",
       "      <th>AttendedBootcamp</th>\n",
       "      <th>BootcampName</th>\n",
       "      <th>MoneyForLearning</th>\n",
       "      <th>MonthsProgramming</th>\n",
       "      <th>Money_Per_Month</th>\n",
       "    </tr>\n",
       "  </thead>\n",
       "  <tbody>\n",
       "    <tr>\n",
       "      <th>13659</th>\n",
       "      <td>Canada</td>\n",
       "      <td>1.0</td>\n",
       "      <td>Bloc.io</td>\n",
       "      <td>10000.0</td>\n",
       "      <td>2.0</td>\n",
       "      <td>5000.0</td>\n",
       "    </tr>\n",
       "  </tbody>\n",
       "</table>\n",
       "</div>"
      ],
      "text/plain": [
       "      CountryLive  AttendedBootcamp BootcampName  MoneyForLearning  \\\n",
       "13659      Canada               1.0      Bloc.io           10000.0   \n",
       "\n",
       "       MonthsProgramming  Money_Per_Month  \n",
       "13659                2.0           5000.0  "
      ]
     },
     "execution_count": 36,
     "metadata": {},
     "output_type": "execute_result"
    }
   ],
   "source": [
    "# Filtering the data set to get data only Canada outliers\n",
    "filt = (required['CountryLive'] == 'Canada') & (required['Money_Per_Month'] > 4000)\n",
    "canada_outlier = required[filt]\n",
    "canada_outlier[['CountryLive', 'AttendedBootcamp', 'BootcampName',\n",
    "               'MoneyForLearning', 'MonthsProgramming', 'Money_Per_Month']]"
   ]
  },
  {
   "cell_type": "markdown",
   "id": "3b6a4571-6c1f-4cf2-8cb0-a47087c0d189",
   "metadata": {
    "tags": []
   },
   "source": [
    "In Canada, the situation is similar to some of the US respondents — this participant had been programming for no more than two months. They seem to have paid a large sum of money in the beginning to enroll in a bootcamp, and then they probably didn't spend anything for the next couple of months after the survey. We'll take the same approach here as for the US and remove this outlier."
   ]
  },
  {
   "cell_type": "code",
   "execution_count": 38,
   "id": "d7def90b-e116-4493-bb6e-fe092925de6a",
   "metadata": {},
   "outputs": [],
   "source": [
    "# Removing Canada outlier\n",
    "required = required.drop(canada_outlier.index)"
   ]
  },
  {
   "cell_type": "code",
   "execution_count": 40,
   "id": "668b47e0-2379-488e-a878-d9ffd3062d13",
   "metadata": {},
   "outputs": [
    {
     "data": {
      "image/png": "[encoded data removed]",
      "text/plain": [
       "<Figure size 432x288 with 1 Axes>"
      ]
     },
     "metadata": {
      "needs_background": "light"
     },
     "output_type": "display_data"
    }
   ],
   "source": [
    "# Plotting box plot without outliers\n",
    "sns.boxplot(data=required, x='CountryLive', y='Money_Per_Month')\n",
    "plt.title('Money Spent Per Month Per Country\\n(Distributions)',\n",
    "         fontsize = 16)\n",
    "plt.ylabel('Money per month (US dollars)')\n",
    "plt.xlabel('Country')\n",
    "plt.xticks(range(4), ['US', 'UK', 'India', 'Canada']) \n",
    "plt.show()"
   ]
  },
  {
   "cell_type": "code",
   "execution_count": 42,
   "id": "c30a94bd-7482-4e9a-b395-7b638b399ad4",
   "metadata": {},
   "outputs": [
    {
     "data": {
      "text/html": [
       "<div>\n",
       "<style scoped>\n",
       "    .dataframe tbody tr th:only-of-type {\n",
       "        vertical-align: middle;\n",
       "    }\n",
       "\n",
       "    .dataframe tbody tr th {\n",
       "        vertical-align: top;\n",
       "    }\n",
       "\n",
       "    .dataframe thead th {\n",
       "        text-align: right;\n",
       "    }\n",
       "</style>\n",
       "<table border=\"1\" class=\"dataframe\">\n",
       "  <thead>\n",
       "    <tr style=\"text-align: right;\">\n",
       "      <th></th>\n",
       "      <th>CountryLive</th>\n",
       "      <th>mean_amount</th>\n",
       "    </tr>\n",
       "  </thead>\n",
       "  <tbody>\n",
       "    <tr>\n",
       "      <th>3</th>\n",
       "      <td>United States of America</td>\n",
       "      <td>142.6</td>\n",
       "    </tr>\n",
       "    <tr>\n",
       "      <th>0</th>\n",
       "      <td>Canada</td>\n",
       "      <td>93.1</td>\n",
       "    </tr>\n",
       "    <tr>\n",
       "      <th>1</th>\n",
       "      <td>India</td>\n",
       "      <td>65.8</td>\n",
       "    </tr>\n",
       "    <tr>\n",
       "      <th>2</th>\n",
       "      <td>United Kingdom</td>\n",
       "      <td>45.5</td>\n",
       "    </tr>\n",
       "  </tbody>\n",
       "</table>\n",
       "</div>"
      ],
      "text/plain": [
       "                CountryLive  mean_amount\n",
       "3  United States of America        142.6\n",
       "0                    Canada         93.1\n",
       "1                     India         65.8\n",
       "2            United Kingdom         45.5"
      ]
     },
     "execution_count": 42,
     "metadata": {},
     "output_type": "execute_result"
    }
   ],
   "source": [
    "# Grouping our data by countries and returning the mean amount spent\n",
    "interest_grp = required.groupby('CountryLive')\n",
    "interest_mean_amount = pd.DataFrame({'mean_amount':interest_grp['Money_Per_Month'].mean()}).reset_index()\n",
    "interest_mean_amount['mean_amount'] = round(interest_mean_amount['mean_amount'], 2)\n",
    "interest_mean_amount.sort_values('mean_amount', ascending=False).round(1)"
   ]
  },
  {
   "cell_type": "markdown",
   "id": "ab88e1da-e9e7-41dc-b66a-3637374a37c4",
   "metadata": {},
   "source": [
    "# Choosing the Two Best Markets"
   ]
  },
  {
   "cell_type": "markdown",
   "id": "216e5ac9-567c-43cb-9fbe-5db56585211c",
   "metadata": {},
   "source": [
    "So far, one country we should definitely advertise in is the US. There are a lot of new coders living there and they are willing to pay a good amount of money each month (around `$143`).\n",
    "\n",
    "Since we sell subscriptions at a price of `$59` per month, Canada seems to be the second best choice: in Canada, respondents are willing to spend approximately `$93.1` per month on online learning courses. \n",
    "\n",
    "However, let's take a second look at India before choosing Canada:\n",
    "\n",
    "- `$59` might actually turn out to be a cheaper option for coders in India, since they're willing to spend roughly around $65 per month.\n",
    "- We have almost twice as more potential customers in India comparing to Canada."
   ]
  },
  {
   "cell_type": "code",
   "execution_count": 43,
   "id": "475fae57-00ba-4a37-92ad-29ce067c34c5",
   "metadata": {},
   "outputs": [
    {
     "data": {
      "text/plain": [
       "United States of America    74.967908\n",
       "India                       11.732991\n",
       "United Kingdom               7.163030\n",
       "Canada                       6.136072\n",
       "Name: CountryLive, dtype: float64"
      ]
     },
     "execution_count": 43,
     "metadata": {},
     "output_type": "execute_result"
    }
   ],
   "source": [
    "# Frequency table for the 'CountryLive' column\n",
    "required['CountryLive'].value_counts(normalize = True) * 100"
   ]
  },
  {
   "cell_type": "markdown",
   "id": "13f24e70-4d76-4f86-bc1e-fb6c8143dfd8",
   "metadata": {},
   "source": [
    "So it's not crystal clear which country to choose between Canada and India. There are good chances that India might be a better choice because of the large number of customers.\n",
    "\n",
    "At this point, it seems that we have several options:\n",
    "\n",
    "- Advertise in the US, India, and Canada by splitting the advertisement budget:\n",
    "- 60% for the US, 25% for India, 15% for Canada.\n",
    "- 50% for the US, 30% for India, 20% for Canada; etc.\n",
    "- Advertise only in the US and India, or the US and Canada. Again, it makes sense to split the advertisement budget. For instance:\n",
    "- 70% for the US, and 30% for India.\n",
    "- 65% for the US, and 35% for Canada; etc.\n",
    "- Advertise only in the US.\n",
    "\n",
    "It's best to send our analysis to the marketing team and let them use their domain knowledge to decide. They might want to do some extra surveys in India and Canada and then get back to us for analyzing the new survey data."
   ]
  },
  {
   "cell_type": "markdown",
   "id": "8b1ff9b1-191d-4312-a78a-2083fdbb1918",
   "metadata": {},
   "source": [
    "# Conclusion"
   ]
  },
  {
   "cell_type": "markdown",
   "id": "c3c79898-fd8d-4609-9b05-5b18d11641a3",
   "metadata": {},
   "source": [
    "In this project, we analysed survey data from new coders to find the best two markets to advertise in. We're working for an e-learning company which offers online courses on programming, and most of their courses are in web development, data science and game development. \n",
    "\n",
    "After checking the sample representativity, we explored the data to discover more about the location of new coders, their willingness to spend, and the reason behind extreme outliers. The only solid conclusion we reached is that the US would be a good market to advertise in. For the second best market, it wasn't clear-cut what to choose between India and Canada. We decided to send the results to the marketing team. In this way, they can use their domain knowledge to take the best decision.\n",
    "\n",
    "Other options to improve our analysis include: finding other criteria to choose the best markets, and/ or analysing other data sets."
   ]
  }
 ],
 "metadata": {
  "kernelspec": {
   "display_name": "Python 3 (ipykernel)",
   "language": "python",
   "name": "python3"
  },
  "language_info": {
   "codemirror_mode": {
    "name": "ipython",
    "version": 3
   },
   "file_extension": ".py",
   "mimetype": "text/x-python",
   "name": "python",
   "nbconvert_exporter": "python",
   "pygments_lexer": "ipython3",
   "version": "3.9.12"
  }
 },
 "nbformat": 4,
 "nbformat_minor": 5
}
