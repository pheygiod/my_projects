{
 "cells": [
  {
   "cell_type": "markdown",
   "id": "9f2c0217-22be-454a-b4a8-7d759ee8e054",
   "metadata": {},
   "source": [
    "# Finding the Best Markets to Advertise In"
   ]
  },
  {
   "cell_type": "markdown",
   "id": "77d125b9-d609-4401-932e-2091ca490721",
   "metadata": {},
   "source": [
    "## Introduction"
   ]
  },
  {
   "cell_type": "markdown",
   "id": "222e6165-19c8-4417-abde-c1c747b6ee9a",
   "metadata": {},
   "source": [
    "The purpose of our project is to find the best markets for a company to advertise its product in. We're working for an e-learning company which offers courses on programming. Most of their courses are in web development, data science and game development. They would like to promote their product and invest some money in advertisement. Our role as data analysts is to help them find the two best markets to advertise their products in."
   ]
  },
  {
   "cell_type": "markdown",
   "id": "c1f1b3e0-9d4d-40ef-844b-df02e9af915c",
   "metadata": {},
   "source": [
    "## Understanding the Data"
   ]
  },
  {
   "cell_type": "code",
   "execution_count": null,
   "id": "3a33c664-c45b-455d-b790-8d80bdd63b51",
   "metadata": {},
   "outputs": [],
   "source": []
  }
 ],
 "metadata": {
  "kernelspec": {
   "display_name": "Python 3 (ipykernel)",
   "language": "python",
   "name": "python3"
  },
  "language_info": {
   "codemirror_mode": {
    "name": "ipython",
    "version": 3
   },
   "file_extension": ".py",
   "mimetype": "text/x-python",
   "name": "python",
   "nbconvert_exporter": "python",
   "pygments_lexer": "ipython3",
   "version": "3.9.12"
  }
 },
 "nbformat": 4,
 "nbformat_minor": 5
}
